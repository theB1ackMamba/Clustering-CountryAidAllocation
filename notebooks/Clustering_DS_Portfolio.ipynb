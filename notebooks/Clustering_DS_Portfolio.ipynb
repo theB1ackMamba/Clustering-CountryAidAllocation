{
 "cells": [
  {
   "cell_type": "markdown",
   "metadata": {},
   "source": [
    "## Problem Statement: \n",
    "The goal of this casestudy is to categorise the countries using socio-economic and health factors into distinct groups based on their level of development and need for aid."
   ]
  },
  {
   "cell_type": "code",
   "execution_count": 1,
   "metadata": {},
   "outputs": [],
   "source": [
    "# Importing all the required libraries\n",
    "import numpy as np\n",
    "import pandas as pd\n",
    "import matplotlib.pyplot as plt\n",
    "import seaborn as sns\n",
    "\n",
    "from sklearn.preprocessing import LabelEncoder, OneHotEncoder, StandardScaler, MinMaxScaler\n",
    "\n",
    "from sklearn.impute import SimpleImputer, KNNImputer\n",
    "\n",
    "import re\n",
    "\n",
    "from sklearn.cluster import KMeans, AgglomerativeClustering, DBSCAN\n",
    "from scipy.cluster import hierarchy  as hc\n",
    "from sklearn.metrics import silhouette_score\n",
    "\n",
    "from sklearn.pipeline import Pipeline\n",
    "import joblib"
   ]
  },
  {
   "cell_type": "code",
   "execution_count": 2,
   "metadata": {},
   "outputs": [],
   "source": [
    "import warnings\n",
    "warnings.filterwarnings('ignore')"
   ]
  },
  {
   "cell_type": "markdown",
   "metadata": {},
   "source": [
    "## Data Ingestion and Sanity Check"
   ]
  },
  {
   "cell_type": "code",
   "execution_count": 3,
   "metadata": {},
   "outputs": [],
   "source": [
    "# Loading the data into a df\n",
    "df = pd.read_csv('CountryAidAllocation.csv')"
   ]
  },
  {
   "cell_type": "code",
   "execution_count": 4,
   "metadata": {},
   "outputs": [
    {
     "data": {
      "text/html": [
       "<div>\n",
       "<style scoped>\n",
       "    .dataframe tbody tr th:only-of-type {\n",
       "        vertical-align: middle;\n",
       "    }\n",
       "\n",
       "    .dataframe tbody tr th {\n",
       "        vertical-align: top;\n",
       "    }\n",
       "\n",
       "    .dataframe thead th {\n",
       "        text-align: right;\n",
       "    }\n",
       "</style>\n",
       "<table border=\"1\" class=\"dataframe\">\n",
       "  <thead>\n",
       "    <tr style=\"text-align: right;\">\n",
       "      <th></th>\n",
       "      <th>country</th>\n",
       "      <th>child_mort</th>\n",
       "      <th>exports</th>\n",
       "      <th>health</th>\n",
       "      <th>imports</th>\n",
       "      <th>income</th>\n",
       "      <th>inflation</th>\n",
       "      <th>life_expec</th>\n",
       "      <th>total_fer</th>\n",
       "      <th>gdpp</th>\n",
       "    </tr>\n",
       "  </thead>\n",
       "  <tbody>\n",
       "    <tr>\n",
       "      <th>67</th>\n",
       "      <td>Hungary</td>\n",
       "      <td>6.0</td>\n",
       "      <td>81.80</td>\n",
       "      <td>7.33</td>\n",
       "      <td>76.5</td>\n",
       "      <td>22300</td>\n",
       "      <td>2.330</td>\n",
       "      <td>74.5</td>\n",
       "      <td>1.25</td>\n",
       "      <td>13100</td>\n",
       "    </tr>\n",
       "    <tr>\n",
       "      <th>12</th>\n",
       "      <td>Bangladesh</td>\n",
       "      <td>49.4</td>\n",
       "      <td>16.00</td>\n",
       "      <td>3.52</td>\n",
       "      <td>21.8</td>\n",
       "      <td>2440</td>\n",
       "      <td>7.140</td>\n",
       "      <td>70.4</td>\n",
       "      <td>2.33</td>\n",
       "      <td>758</td>\n",
       "    </tr>\n",
       "    <tr>\n",
       "      <th>136</th>\n",
       "      <td>Solomon Islands</td>\n",
       "      <td>28.1</td>\n",
       "      <td>49.30</td>\n",
       "      <td>8.55</td>\n",
       "      <td>81.2</td>\n",
       "      <td>1780</td>\n",
       "      <td>6.810</td>\n",
       "      <td>61.7</td>\n",
       "      <td>4.24</td>\n",
       "      <td>1290</td>\n",
       "    </tr>\n",
       "    <tr>\n",
       "      <th>95</th>\n",
       "      <td>Malaysia</td>\n",
       "      <td>7.9</td>\n",
       "      <td>86.90</td>\n",
       "      <td>4.39</td>\n",
       "      <td>71.0</td>\n",
       "      <td>21100</td>\n",
       "      <td>7.270</td>\n",
       "      <td>74.5</td>\n",
       "      <td>2.15</td>\n",
       "      <td>9070</td>\n",
       "    </tr>\n",
       "    <tr>\n",
       "      <th>42</th>\n",
       "      <td>Cyprus</td>\n",
       "      <td>3.6</td>\n",
       "      <td>50.20</td>\n",
       "      <td>5.97</td>\n",
       "      <td>57.5</td>\n",
       "      <td>33900</td>\n",
       "      <td>2.010</td>\n",
       "      <td>79.9</td>\n",
       "      <td>1.42</td>\n",
       "      <td>30800</td>\n",
       "    </tr>\n",
       "    <tr>\n",
       "      <th>13</th>\n",
       "      <td>Barbados</td>\n",
       "      <td>14.2</td>\n",
       "      <td>39.50</td>\n",
       "      <td>7.97</td>\n",
       "      <td>48.7</td>\n",
       "      <td>15300</td>\n",
       "      <td>0.321</td>\n",
       "      <td>76.7</td>\n",
       "      <td>1.78</td>\n",
       "      <td>16000</td>\n",
       "    </tr>\n",
       "    <tr>\n",
       "      <th>116</th>\n",
       "      <td>Pakistan</td>\n",
       "      <td>92.1</td>\n",
       "      <td>13.50</td>\n",
       "      <td>2.20</td>\n",
       "      <td>19.4</td>\n",
       "      <td>4280</td>\n",
       "      <td>10.900</td>\n",
       "      <td>65.3</td>\n",
       "      <td>3.85</td>\n",
       "      <td>1040</td>\n",
       "    </tr>\n",
       "    <tr>\n",
       "      <th>21</th>\n",
       "      <td>Botswana</td>\n",
       "      <td>52.5</td>\n",
       "      <td>43.60</td>\n",
       "      <td>8.30</td>\n",
       "      <td>51.3</td>\n",
       "      <td>13300</td>\n",
       "      <td>8.920</td>\n",
       "      <td>57.1</td>\n",
       "      <td>2.88</td>\n",
       "      <td>6350</td>\n",
       "    </tr>\n",
       "    <tr>\n",
       "      <th>26</th>\n",
       "      <td>Burundi</td>\n",
       "      <td>93.6</td>\n",
       "      <td>8.92</td>\n",
       "      <td>11.60</td>\n",
       "      <td>39.2</td>\n",
       "      <td>764</td>\n",
       "      <td>12.300</td>\n",
       "      <td>57.7</td>\n",
       "      <td>6.26</td>\n",
       "      <td>231</td>\n",
       "    </tr>\n",
       "    <tr>\n",
       "      <th>132</th>\n",
       "      <td>Sierra Leone</td>\n",
       "      <td>160.0</td>\n",
       "      <td>16.80</td>\n",
       "      <td>13.10</td>\n",
       "      <td>34.5</td>\n",
       "      <td>1220</td>\n",
       "      <td>17.200</td>\n",
       "      <td>55.0</td>\n",
       "      <td>5.20</td>\n",
       "      <td>399</td>\n",
       "    </tr>\n",
       "  </tbody>\n",
       "</table>\n",
       "</div>"
      ],
      "text/plain": [
       "             country  child_mort  exports  health  imports  income  inflation  \\\n",
       "67           Hungary         6.0    81.80    7.33     76.5   22300      2.330   \n",
       "12        Bangladesh        49.4    16.00    3.52     21.8    2440      7.140   \n",
       "136  Solomon Islands        28.1    49.30    8.55     81.2    1780      6.810   \n",
       "95          Malaysia         7.9    86.90    4.39     71.0   21100      7.270   \n",
       "42            Cyprus         3.6    50.20    5.97     57.5   33900      2.010   \n",
       "13          Barbados        14.2    39.50    7.97     48.7   15300      0.321   \n",
       "116         Pakistan        92.1    13.50    2.20     19.4    4280     10.900   \n",
       "21          Botswana        52.5    43.60    8.30     51.3   13300      8.920   \n",
       "26           Burundi        93.6     8.92   11.60     39.2     764     12.300   \n",
       "132     Sierra Leone       160.0    16.80   13.10     34.5    1220     17.200   \n",
       "\n",
       "     life_expec  total_fer   gdpp  \n",
       "67         74.5       1.25  13100  \n",
       "12         70.4       2.33    758  \n",
       "136        61.7       4.24   1290  \n",
       "95         74.5       2.15   9070  \n",
       "42         79.9       1.42  30800  \n",
       "13         76.7       1.78  16000  \n",
       "116        65.3       3.85   1040  \n",
       "21         57.1       2.88   6350  \n",
       "26         57.7       6.26    231  \n",
       "132        55.0       5.20    399  "
      ]
     },
     "execution_count": 4,
     "metadata": {},
     "output_type": "execute_result"
    }
   ],
   "source": [
    "# Let's look at a few of the sample rows\n",
    "df.sample(10)"
   ]
  },
  {
   "cell_type": "markdown",
   "metadata": {},
   "source": [
    "Let's look at the different columns we have...\n",
    "\n",
    "* country: Name of the country  \n",
    "* child_mort: Death of children under 5 years of age per 1000 live births  \n",
    "* exports: Exports of goods and services per capita. Given as %age of the GDP per capita  \n",
    "* health: Total health spending per capita. Given as %age of GDP per capita  \n",
    "* imports: Imports of goods and services per capita. Given as %age of the GDP per capita  \n",
    "* income: Net income per person  \n",
    "* inflation: The measurement of the annual growth rate of the Total GDP  \n",
    "* life_expec: The average number of years a new born child would live if the current mortality patterns are to remain the same\n",
    "* total_fer: The number of children that would be born to each woman if the current age-fertility rates remain the same  \n",
    "* gdpp: The GDP per capita. Calculated as the Total GDP divided by the total population.  "
   ]
  },
  {
   "cell_type": "code",
   "execution_count": 5,
   "metadata": {},
   "outputs": [
    {
     "data": {
      "text/plain": [
       "(167, 10)"
      ]
     },
     "execution_count": 5,
     "metadata": {},
     "output_type": "execute_result"
    }
   ],
   "source": [
    "# Let's look at the shape of the df\n",
    "df.shape"
   ]
  },
  {
   "cell_type": "code",
   "execution_count": 6,
   "metadata": {},
   "outputs": [
    {
     "data": {
      "text/html": [
       "<div>\n",
       "<style scoped>\n",
       "    .dataframe tbody tr th:only-of-type {\n",
       "        vertical-align: middle;\n",
       "    }\n",
       "\n",
       "    .dataframe tbody tr th {\n",
       "        vertical-align: top;\n",
       "    }\n",
       "\n",
       "    .dataframe thead th {\n",
       "        text-align: right;\n",
       "    }\n",
       "</style>\n",
       "<table border=\"1\" class=\"dataframe\">\n",
       "  <thead>\n",
       "    <tr style=\"text-align: right;\">\n",
       "      <th></th>\n",
       "      <th>child_mort</th>\n",
       "      <th>exports</th>\n",
       "      <th>health</th>\n",
       "      <th>imports</th>\n",
       "      <th>income</th>\n",
       "      <th>inflation</th>\n",
       "      <th>life_expec</th>\n",
       "      <th>total_fer</th>\n",
       "      <th>gdpp</th>\n",
       "    </tr>\n",
       "  </thead>\n",
       "  <tbody>\n",
       "    <tr>\n",
       "      <th>count</th>\n",
       "      <td>167.00</td>\n",
       "      <td>167.00</td>\n",
       "      <td>167.00</td>\n",
       "      <td>167.00</td>\n",
       "      <td>167.00</td>\n",
       "      <td>167.00</td>\n",
       "      <td>167.00</td>\n",
       "      <td>167.00</td>\n",
       "      <td>167.00</td>\n",
       "    </tr>\n",
       "    <tr>\n",
       "      <th>mean</th>\n",
       "      <td>38.27</td>\n",
       "      <td>41.11</td>\n",
       "      <td>6.82</td>\n",
       "      <td>46.89</td>\n",
       "      <td>17144.69</td>\n",
       "      <td>7.78</td>\n",
       "      <td>70.56</td>\n",
       "      <td>2.95</td>\n",
       "      <td>12964.16</td>\n",
       "    </tr>\n",
       "    <tr>\n",
       "      <th>std</th>\n",
       "      <td>40.33</td>\n",
       "      <td>27.41</td>\n",
       "      <td>2.75</td>\n",
       "      <td>24.21</td>\n",
       "      <td>19278.07</td>\n",
       "      <td>10.57</td>\n",
       "      <td>8.89</td>\n",
       "      <td>1.51</td>\n",
       "      <td>18328.70</td>\n",
       "    </tr>\n",
       "    <tr>\n",
       "      <th>min</th>\n",
       "      <td>2.60</td>\n",
       "      <td>0.11</td>\n",
       "      <td>1.81</td>\n",
       "      <td>0.07</td>\n",
       "      <td>609.00</td>\n",
       "      <td>-4.21</td>\n",
       "      <td>32.10</td>\n",
       "      <td>1.15</td>\n",
       "      <td>231.00</td>\n",
       "    </tr>\n",
       "    <tr>\n",
       "      <th>25%</th>\n",
       "      <td>8.25</td>\n",
       "      <td>23.80</td>\n",
       "      <td>4.92</td>\n",
       "      <td>30.20</td>\n",
       "      <td>3355.00</td>\n",
       "      <td>1.81</td>\n",
       "      <td>65.30</td>\n",
       "      <td>1.79</td>\n",
       "      <td>1330.00</td>\n",
       "    </tr>\n",
       "    <tr>\n",
       "      <th>50%</th>\n",
       "      <td>19.30</td>\n",
       "      <td>35.00</td>\n",
       "      <td>6.32</td>\n",
       "      <td>43.30</td>\n",
       "      <td>9960.00</td>\n",
       "      <td>5.39</td>\n",
       "      <td>73.10</td>\n",
       "      <td>2.41</td>\n",
       "      <td>4660.00</td>\n",
       "    </tr>\n",
       "    <tr>\n",
       "      <th>75%</th>\n",
       "      <td>62.10</td>\n",
       "      <td>51.35</td>\n",
       "      <td>8.60</td>\n",
       "      <td>58.75</td>\n",
       "      <td>22800.00</td>\n",
       "      <td>10.75</td>\n",
       "      <td>76.80</td>\n",
       "      <td>3.88</td>\n",
       "      <td>14050.00</td>\n",
       "    </tr>\n",
       "    <tr>\n",
       "      <th>max</th>\n",
       "      <td>208.00</td>\n",
       "      <td>200.00</td>\n",
       "      <td>17.90</td>\n",
       "      <td>174.00</td>\n",
       "      <td>125000.00</td>\n",
       "      <td>104.00</td>\n",
       "      <td>82.80</td>\n",
       "      <td>7.49</td>\n",
       "      <td>105000.00</td>\n",
       "    </tr>\n",
       "  </tbody>\n",
       "</table>\n",
       "</div>"
      ],
      "text/plain": [
       "       child_mort  exports  health  imports    income  inflation  life_expec  \\\n",
       "count      167.00   167.00  167.00   167.00    167.00     167.00      167.00   \n",
       "mean        38.27    41.11    6.82    46.89  17144.69       7.78       70.56   \n",
       "std         40.33    27.41    2.75    24.21  19278.07      10.57        8.89   \n",
       "min          2.60     0.11    1.81     0.07    609.00      -4.21       32.10   \n",
       "25%          8.25    23.80    4.92    30.20   3355.00       1.81       65.30   \n",
       "50%         19.30    35.00    6.32    43.30   9960.00       5.39       73.10   \n",
       "75%         62.10    51.35    8.60    58.75  22800.00      10.75       76.80   \n",
       "max        208.00   200.00   17.90   174.00 125000.00     104.00       82.80   \n",
       "\n",
       "       total_fer      gdpp  \n",
       "count     167.00    167.00  \n",
       "mean        2.95  12964.16  \n",
       "std         1.51  18328.70  \n",
       "min         1.15    231.00  \n",
       "25%         1.79   1330.00  \n",
       "50%         2.41   4660.00  \n",
       "75%         3.88  14050.00  \n",
       "max         7.49 105000.00  "
      ]
     },
     "execution_count": 6,
     "metadata": {},
     "output_type": "execute_result"
    }
   ],
   "source": [
    "# Set pandas to display floats in plain number format upto 2 decimal points\n",
    "pd.set_option('display.float_format', '{:.2f}'.format)\n",
    "\n",
    "# Let's look at the 5 point summary of the numerical columns in the data\n",
    "df.describe()"
   ]
  },
  {
   "cell_type": "markdown",
   "metadata": {},
   "source": [
    "## Data Preprocessing"
   ]
  },
  {
   "cell_type": "markdown",
   "metadata": {},
   "source": [
    "### A) Duplicate Values Treatment"
   ]
  },
  {
   "cell_type": "code",
   "execution_count": 7,
   "metadata": {},
   "outputs": [
    {
     "name": "stdout",
     "output_type": "stream",
     "text": [
      "The number of duplicate values in the 'Country' column is 0\n"
     ]
    }
   ],
   "source": [
    "duplicateCount = df['country'].duplicated().sum()\n",
    "print(f\"The number of duplicate values in the 'Country' column is {duplicateCount}\") "
   ]
  },
  {
   "cell_type": "markdown",
   "metadata": {},
   "source": [
    "### B) Null Values Treatment"
   ]
  },
  {
   "cell_type": "code",
   "execution_count": 8,
   "metadata": {},
   "outputs": [
    {
     "data": {
      "text/plain": [
       "country       0\n",
       "child_mort    0\n",
       "exports       0\n",
       "health        0\n",
       "imports       0\n",
       "income        0\n",
       "inflation     0\n",
       "life_expec    0\n",
       "total_fer     0\n",
       "gdpp          0\n",
       "dtype: int64"
      ]
     },
     "execution_count": 8,
     "metadata": {},
     "output_type": "execute_result"
    }
   ],
   "source": [
    "df.isna().sum()"
   ]
  },
  {
   "cell_type": "markdown",
   "metadata": {},
   "source": [
    "Looks like we don't have Null values in any of our columns"
   ]
  },
  {
   "cell_type": "markdown",
   "metadata": {},
   "source": [
    "### C) Outlier Treatment"
   ]
  },
  {
   "cell_type": "markdown",
   "metadata": {},
   "source": [
    "**Let's see if there are any outliers in the 'Child Mortality' column**"
   ]
  },
  {
   "cell_type": "code",
   "execution_count": 9,
   "metadata": {},
   "outputs": [
    {
     "name": "stdout",
     "output_type": "stream",
     "text": [
      "The minimum value in the column is 2.6\n",
      "The 25th percentile is 8.25\n",
      "The 75th percentile is 62.1\n",
      "The maximum value in the column is 208.0\n",
      "\n",
      "The theoretical lower cut off comes out to be -72.525\n",
      "The theoretical upper cut off comes out to be 142.875\n",
      "\n",
      "The number of right-tailed outliers is 4\n",
      "The number of left-tailed outliers is 0\n"
     ]
    }
   ],
   "source": [
    "# Let's look at the min, max, 25th and 75th percentiles.\n",
    "\n",
    "minVal = df['child_mort'].min()\n",
    "Percentile25 = df['child_mort'].quantile(0.25)\n",
    "Percentile75 = df['child_mort'].quantile(0.75)\n",
    "maxVal = df['child_mort'].max()\n",
    "\n",
    "print(f'The minimum value in the column is {minVal}')\n",
    "print(f'The 25th percentile is {Percentile25}')\n",
    "print(f'The 75th percentile is {Percentile75}')\n",
    "print(f'The maximum value in the column is {maxVal}')\n",
    "print('')\n",
    "\n",
    "# Inter-quartile range\n",
    "IQR = Percentile75 - Percentile25\n",
    "\n",
    "# Lower and upper bounds\n",
    "# data points lying beyond these bounds will be considered as outliers\n",
    "CM_LB = Percentile25 - 1.5*IQR\n",
    "CM_UB = Percentile75 + 1.5*IQR\n",
    "\n",
    "print(f'The theoretical lower cut off comes out to be {CM_LB}')\n",
    "print(f'The theoretical upper cut off comes out to be {CM_UB}')\n",
    "print(\"\")\n",
    "\n",
    "rightTailedOutliers = df[df['child_mort'] > CM_UB]['child_mort'].count()\n",
    "leftTailedOutliers = df[df['child_mort'] < CM_LB]['child_mort'].count()\n",
    "\n",
    "print(f\"The number of right-tailed outliers is {rightTailedOutliers}\")\n",
    "print(f\"The number of left-tailed outliers is {leftTailedOutliers}\")"
   ]
  },
  {
   "cell_type": "markdown",
   "metadata": {},
   "source": [
    "*As we can see that the child mortality rate in some countries is as high as 208 per 1000 children.*  \n",
    "*These values can very well be realistic for some of the third world countries out there. Hence, we are not going to substitute these outliers by any other value.*"
   ]
  },
  {
   "cell_type": "markdown",
   "metadata": {},
   "source": [
    "**Let's see if there are any outliers in the 'Exports' column**"
   ]
  },
  {
   "cell_type": "code",
   "execution_count": 10,
   "metadata": {},
   "outputs": [
    {
     "name": "stdout",
     "output_type": "stream",
     "text": [
      "The minimum value in the column is 0.109\n",
      "The 25th percentile is 23.8\n",
      "The 75th percentile is 51.349999999999994\n",
      "The maximum value in the column is 200.0\n",
      "\n",
      "The theoretical lower cut off comes out to be -17.524999999999988\n",
      "The theoretical upper cut off comes out to be 92.67499999999998\n",
      "\n",
      "The number of right-tailed outliers is 5\n",
      "The number of left-tailed outliers is 0\n"
     ]
    }
   ],
   "source": [
    "# Let's look at the min, max, 25th and 75th percentiles.\n",
    "\n",
    "minVal = df['exports'].min()\n",
    "Percentile25 = df['exports'].quantile(0.25)\n",
    "Percentile75 = df['exports'].quantile(0.75)\n",
    "maxVal = df['exports'].max()\n",
    "\n",
    "print(f'The minimum value in the column is {minVal}')\n",
    "print(f'The 25th percentile is {Percentile25}')\n",
    "print(f'The 75th percentile is {Percentile75}')\n",
    "print(f'The maximum value in the column is {maxVal}')\n",
    "print('')\n",
    "\n",
    "# Inter-quartile range\n",
    "IQR = Percentile75 - Percentile25\n",
    "\n",
    "# Lower and upper bounds\n",
    "# data points lying beyond these bounds will be considered as outliers\n",
    "Exports_LB = Percentile25 - 1.5*IQR\n",
    "Exports_UB = Percentile75 + 1.5*IQR\n",
    "\n",
    "print(f'The theoretical lower cut off comes out to be {Exports_LB}')\n",
    "print(f'The theoretical upper cut off comes out to be {Exports_UB}')\n",
    "print(\"\")\n",
    "\n",
    "rightTailedOutliers = df[df['exports'] > Exports_UB]['exports'].count()\n",
    "leftTailedOutliers = df[df['exports'] < Exports_LB]['exports'].count()\n",
    "\n",
    "print(f\"The number of right-tailed outliers is {rightTailedOutliers}\")\n",
    "print(f\"The number of left-tailed outliers is {leftTailedOutliers}\")"
   ]
  },
  {
   "cell_type": "markdown",
   "metadata": {},
   "source": [
    "*As we can see that the exports in some countries are as high as 200 % when expressed as a percentage of GDP.*  \n",
    "*For small, trade-heavy and open economies, this can very well be the case. Hence, we'll not treat these outliers.*"
   ]
  },
  {
   "cell_type": "markdown",
   "metadata": {},
   "source": [
    "**Let's see if there are any outliers in the 'Imports' column**"
   ]
  },
  {
   "cell_type": "code",
   "execution_count": 11,
   "metadata": {},
   "outputs": [
    {
     "name": "stdout",
     "output_type": "stream",
     "text": [
      "The minimum value in the column is 0.0659\n",
      "The 25th percentile is 30.2\n",
      "The 75th percentile is 58.75\n",
      "The maximum value in the column is 174.0\n",
      "\n",
      "The theoretical lower cut off comes out to be -12.625000000000004\n",
      "The theoretical upper cut off comes out to be 101.575\n",
      "\n",
      "The number of right-tailed outliers is 4\n",
      "The number of left-tailed outliers is 0\n"
     ]
    }
   ],
   "source": [
    "# Let's look at the min, max, 25th and 75th percentiles.\n",
    "\n",
    "minVal = df['imports'].min()\n",
    "Percentile25 = df['imports'].quantile(0.25)\n",
    "Percentile75 = df['imports'].quantile(0.75)\n",
    "maxVal = df['imports'].max()\n",
    "\n",
    "print(f'The minimum value in the column is {minVal}')\n",
    "print(f'The 25th percentile is {Percentile25}')\n",
    "print(f'The 75th percentile is {Percentile75}')\n",
    "print(f'The maximum value in the column is {maxVal}')\n",
    "print('')\n",
    "\n",
    "# Inter-quartile range\n",
    "IQR = Percentile75 - Percentile25\n",
    "\n",
    "# Lower and upper bounds\n",
    "# data points lying beyond these bounds will be considered as outliers\n",
    "Imports_LB = Percentile25 - 1.5*IQR\n",
    "Imports_UB = Percentile75 + 1.5*IQR\n",
    "\n",
    "print(f'The theoretical lower cut off comes out to be {Imports_LB}')\n",
    "print(f'The theoretical upper cut off comes out to be {Imports_UB}')\n",
    "print(\"\")\n",
    "\n",
    "rightTailedOutliers = df[df['imports'] > Imports_UB]['imports'].count()\n",
    "leftTailedOutliers = df[df['imports'] < Imports_LB]['imports'].count()\n",
    "\n",
    "print(f\"The number of right-tailed outliers is {rightTailedOutliers}\")\n",
    "print(f\"The number of left-tailed outliers is {leftTailedOutliers}\")"
   ]
  },
  {
   "cell_type": "markdown",
   "metadata": {},
   "source": [
    "*As we can see that the imports in some countries are as high as 174% when expressed as a percentage of GDP.*  \n",
    "*For small, trade-heavy and open economies, this can very well be the case. Hence, we'll not treat these outliers.*"
   ]
  },
  {
   "cell_type": "markdown",
   "metadata": {},
   "source": [
    "**Let's see if there are any outliers in the 'Health' column**"
   ]
  },
  {
   "cell_type": "code",
   "execution_count": 12,
   "metadata": {},
   "outputs": [
    {
     "name": "stdout",
     "output_type": "stream",
     "text": [
      "The minimum value in the column is 1.81\n",
      "The 25th percentile is 4.92\n",
      "The 75th percentile is 8.600000000000001\n",
      "The maximum value in the column is 17.9\n",
      "\n",
      "The theoretical lower cut off comes out to be -0.6000000000000023\n",
      "The theoretical upper cut off comes out to be 14.120000000000005\n",
      "\n",
      "The number of right-tailed outliers is 2\n",
      "The number of left-tailed outliers is 0\n"
     ]
    }
   ],
   "source": [
    "# Let's look at the min, max, 25th and 75th percentiles.\n",
    "\n",
    "minVal = df['health'].min()\n",
    "Percentile25 = df['health'].quantile(0.25)\n",
    "Percentile75 = df['health'].quantile(0.75)\n",
    "maxVal = df['health'].max()\n",
    "\n",
    "print(f'The minimum value in the column is {minVal}')\n",
    "print(f'The 25th percentile is {Percentile25}')\n",
    "print(f'The 75th percentile is {Percentile75}')\n",
    "print(f'The maximum value in the column is {maxVal}')\n",
    "print('')\n",
    "\n",
    "# Inter-quartile range\n",
    "IQR = Percentile75 - Percentile25\n",
    "\n",
    "# Lower and upper bounds\n",
    "# data points lying beyond these bounds will be considered as outliers\n",
    "Health_LB = Percentile25 - 1.5*IQR\n",
    "Health_UB = Percentile75 + 1.5*IQR\n",
    "\n",
    "print(f'The theoretical lower cut off comes out to be {Health_LB}')\n",
    "print(f'The theoretical upper cut off comes out to be {Health_UB}')\n",
    "print(\"\")\n",
    "\n",
    "rightTailedOutliers = df[df['health'] > Health_UB]['health'].count()\n",
    "leftTailedOutliers = df[df['health'] < Health_LB]['health'].count()\n",
    "\n",
    "print(f\"The number of right-tailed outliers is {rightTailedOutliers}\")\n",
    "print(f\"The number of left-tailed outliers is {leftTailedOutliers}\")"
   ]
  },
  {
   "cell_type": "markdown",
   "metadata": {},
   "source": [
    "*For half of the countries, spending on Healthcare as a percentage of the GDP is between 4.92% to 8.6% with a few countries spending as much as 17.9%.*  \n",
    "*This values are very much realistic and therefore we wouldn't treat them*"
   ]
  },
  {
   "cell_type": "markdown",
   "metadata": {},
   "source": [
    "**Let's see if there are any outliers in the 'Income' column**"
   ]
  },
  {
   "cell_type": "code",
   "execution_count": 13,
   "metadata": {},
   "outputs": [
    {
     "name": "stdout",
     "output_type": "stream",
     "text": [
      "The minimum value in the column is 609\n",
      "The 25th percentile is 3355.0\n",
      "The 75th percentile is 22800.0\n",
      "The maximum value in the column is 125000\n",
      "\n",
      "The theoretical lower cut off comes out to be -25812.5\n",
      "The theoretical upper cut off comes out to be 51967.5\n",
      "\n",
      "The number of right-tailed outliers is 8\n",
      "The number of left-tailed outliers is 0\n"
     ]
    }
   ],
   "source": [
    "# Let's look at the min, max, 25th and 75th percentiles.\n",
    "\n",
    "minVal = df['income'].min()\n",
    "Percentile25 = df['income'].quantile(0.25)\n",
    "Percentile75 = df['income'].quantile(0.75)\n",
    "maxVal = df['income'].max()\n",
    "\n",
    "print(f'The minimum value in the column is {minVal}')\n",
    "print(f'The 25th percentile is {Percentile25}')\n",
    "print(f'The 75th percentile is {Percentile75}')\n",
    "print(f'The maximum value in the column is {maxVal}')\n",
    "print('')\n",
    "\n",
    "# Inter-quartile range\n",
    "IQR = Percentile75 - Percentile25\n",
    "\n",
    "# Lower and upper bounds\n",
    "# data points lying beyond these bounds will be considered as outliers\n",
    "Income_LB = Percentile25 - 1.5*IQR\n",
    "Income_UB = Percentile75 + 1.5*IQR\n",
    "\n",
    "print(f'The theoretical lower cut off comes out to be {Income_LB}')\n",
    "print(f'The theoretical upper cut off comes out to be {Income_UB}')\n",
    "print(\"\")\n",
    "\n",
    "rightTailedOutliers = df[df['income'] > Income_UB]['income'].count()\n",
    "leftTailedOutliers = df[df['income'] < Income_LB]['income'].count()\n",
    "\n",
    "print(f\"The number of right-tailed outliers is {rightTailedOutliers}\")\n",
    "print(f\"The number of left-tailed outliers is {leftTailedOutliers}\")"
   ]
  },
  {
   "cell_type": "markdown",
   "metadata": {},
   "source": [
    "*As we can see that for some of the countries out there, the per capita income is as high as $125,000 a year.*  \n",
    "*Luxembourg is one such country with such high per capita income suggesting that these values are realistic and therefore we wouldn't treat them.*"
   ]
  },
  {
   "cell_type": "markdown",
   "metadata": {},
   "source": [
    "**Let's see if there are any outliers in the 'Inflation' column**"
   ]
  },
  {
   "cell_type": "code",
   "execution_count": 14,
   "metadata": {},
   "outputs": [
    {
     "name": "stdout",
     "output_type": "stream",
     "text": [
      "The minimum value in the column is -4.21\n",
      "The 25th percentile is 1.81\n",
      "The 75th percentile is 10.75\n",
      "The maximum value in the column is 104.0\n",
      "\n",
      "The theoretical lower cut off comes out to be -11.6\n",
      "The theoretical upper cut off comes out to be 24.16\n",
      "\n",
      "The number of right-tailed outliers is 5\n",
      "The number of left-tailed outliers is 0\n"
     ]
    }
   ],
   "source": [
    "# Let's look at the min, max, 25th and 75th percentiles.\n",
    "\n",
    "minVal = df['inflation'].min()\n",
    "Percentile25 = df['inflation'].quantile(0.25)\n",
    "Percentile75 = df['inflation'].quantile(0.75)\n",
    "maxVal = df['inflation'].max()\n",
    "\n",
    "print(f'The minimum value in the column is {minVal}')\n",
    "print(f'The 25th percentile is {Percentile25}')\n",
    "print(f'The 75th percentile is {Percentile75}')\n",
    "print(f'The maximum value in the column is {maxVal}')\n",
    "print('')\n",
    "\n",
    "# Inter-quartile range\n",
    "IQR = Percentile75 - Percentile25\n",
    "\n",
    "# Lower and upper bounds\n",
    "# data points lying beyond these bounds will be considered as outliers\n",
    "Inflation_LB = Percentile25 - 1.5*IQR\n",
    "Inflation_UB = Percentile75 + 1.5*IQR\n",
    "\n",
    "print(f'The theoretical lower cut off comes out to be {Inflation_LB}')\n",
    "print(f'The theoretical upper cut off comes out to be {Inflation_UB}')\n",
    "print(\"\")\n",
    "\n",
    "rightTailedOutliers = df[df['inflation'] > Inflation_UB]['inflation'].count()\n",
    "leftTailedOutliers = df[df['inflation'] < Inflation_LB]['inflation'].count()\n",
    "\n",
    "print(f\"The number of right-tailed outliers is {rightTailedOutliers}\")\n",
    "print(f\"The number of left-tailed outliers is {leftTailedOutliers}\")"
   ]
  },
  {
   "cell_type": "markdown",
   "metadata": {},
   "source": [
    "*As we can see that there are some countries with inflation greater than 100%.*  \n",
    "*Such cases of hyperinflation can exist in the real world owing to factors like excessive money printing. Therefore, we would treat these values as realistic and not treat them.*"
   ]
  },
  {
   "cell_type": "markdown",
   "metadata": {},
   "source": [
    "**Let's see if there are any outliers in the 'Life Expectancy' column**"
   ]
  },
  {
   "cell_type": "code",
   "execution_count": 15,
   "metadata": {},
   "outputs": [
    {
     "name": "stdout",
     "output_type": "stream",
     "text": [
      "The minimum value in the column is 32.1\n",
      "The 25th percentile is 65.3\n",
      "The 75th percentile is 76.8\n",
      "The maximum value in the column is 82.8\n",
      "\n",
      "The theoretical lower cut off comes out to be 48.05\n",
      "The theoretical upper cut off comes out to be 94.05\n",
      "\n",
      "The number of right-tailed outliers is 0\n",
      "The number of left-tailed outliers is 3\n"
     ]
    }
   ],
   "source": [
    "# Let's look at the min, max, 25th and 75th percentiles.\n",
    "\n",
    "minVal = df['life_expec'].min()\n",
    "Percentile25 = df['life_expec'].quantile(0.25)\n",
    "Percentile75 = df['life_expec'].quantile(0.75)\n",
    "maxVal = df['life_expec'].max()\n",
    "\n",
    "print(f'The minimum value in the column is {minVal}')\n",
    "print(f'The 25th percentile is {Percentile25}')\n",
    "print(f'The 75th percentile is {Percentile75}')\n",
    "print(f'The maximum value in the column is {maxVal}')\n",
    "print('')\n",
    "\n",
    "# Inter-quartile range\n",
    "IQR = Percentile75 - Percentile25\n",
    "\n",
    "# Lower and upper bounds\n",
    "# data points lying beyond these bounds will be considered as outliers\n",
    "LifeExp_LB = Percentile25 - 1.5*IQR\n",
    "LifeExp_UB = Percentile75 + 1.5*IQR\n",
    "\n",
    "print(f'The theoretical lower cut off comes out to be {LifeExp_LB}')\n",
    "print(f'The theoretical upper cut off comes out to be {LifeExp_UB}')\n",
    "print(\"\")\n",
    "\n",
    "rightTailedOutliers = df[df['life_expec'] > LifeExp_UB]['life_expec'].count()\n",
    "leftTailedOutliers = df[df['life_expec'] < LifeExp_LB]['life_expec'].count()\n",
    "\n",
    "print(f\"The number of right-tailed outliers is {rightTailedOutliers}\")\n",
    "print(f\"The number of left-tailed outliers is {leftTailedOutliers}\")"
   ]
  },
  {
   "cell_type": "markdown",
   "metadata": {},
   "source": [
    "*As we can see that the life expectancy for some of the countries out there is as low as 32 years.*  \n",
    "*These values can very well be true for some of the third world countries out there. Hence, we are not going to treat them.*"
   ]
  },
  {
   "cell_type": "markdown",
   "metadata": {},
   "source": [
    "**Let's see if there are any outliers in the 'Fertility' column**"
   ]
  },
  {
   "cell_type": "code",
   "execution_count": 16,
   "metadata": {},
   "outputs": [
    {
     "name": "stdout",
     "output_type": "stream",
     "text": [
      "The minimum value in the column is 1.15\n",
      "The 25th percentile is 1.795\n",
      "The 75th percentile is 3.88\n",
      "The maximum value in the column is 7.49\n",
      "\n",
      "The theoretical lower cut off comes out to be -1.3325\n",
      "The theoretical upper cut off comes out to be 7.0075\n",
      "\n",
      "The number of right-tailed outliers is 1\n",
      "The number of left-tailed outliers is 0\n"
     ]
    }
   ],
   "source": [
    "# Let's look at the min, max, 25th and 75th percentiles.\n",
    "\n",
    "minVal = df['total_fer'].min()\n",
    "Percentile25 = df['total_fer'].quantile(0.25)\n",
    "Percentile75 = df['total_fer'].quantile(0.75)\n",
    "maxVal = df['total_fer'].max()\n",
    "\n",
    "print(f'The minimum value in the column is {minVal}')\n",
    "print(f'The 25th percentile is {Percentile25}')\n",
    "print(f'The 75th percentile is {Percentile75}')\n",
    "print(f'The maximum value in the column is {maxVal}')\n",
    "print('')\n",
    "\n",
    "# Inter-quartile range\n",
    "IQR = Percentile75 - Percentile25\n",
    "\n",
    "# Lower and upper bounds\n",
    "# data points lying beyond these bounds will be considered as outliers\n",
    "TotalFert_LB = Percentile25 - 1.5*IQR\n",
    "TotalFert_UB = Percentile75 + 1.5*IQR\n",
    "\n",
    "print(f'The theoretical lower cut off comes out to be {TotalFert_LB}')\n",
    "print(f'The theoretical upper cut off comes out to be {TotalFert_UB}')\n",
    "print(\"\")\n",
    "\n",
    "rightTailedOutliers = df[df['total_fer'] > TotalFert_UB]['total_fer'].count()\n",
    "leftTailedOutliers = df[df['total_fer'] < TotalFert_LB]['total_fer'].count()\n",
    "\n",
    "print(f\"The number of right-tailed outliers is {rightTailedOutliers}\")\n",
    "print(f\"The number of left-tailed outliers is {leftTailedOutliers}\")"
   ]
  },
  {
   "cell_type": "markdown",
   "metadata": {},
   "source": [
    "*For a woman to bear 7-8 children in a lifetime doesn't sound too unrealistic. and hence, we wouldn't treat these as outliers*"
   ]
  },
  {
   "cell_type": "markdown",
   "metadata": {},
   "source": [
    "**Let's see if there are any outliers in the 'GDP Per Capita' column**"
   ]
  },
  {
   "cell_type": "code",
   "execution_count": 17,
   "metadata": {},
   "outputs": [
    {
     "name": "stdout",
     "output_type": "stream",
     "text": [
      "The minimum value in the column is 231\n",
      "The 25th percentile is 1330.0\n",
      "The 75th percentile is 14050.0\n",
      "The maximum value in the column is 105000\n",
      "\n",
      "The theoretical lower cut off comes out to be -17750.0\n",
      "The theoretical upper cut off comes out to be 33130.0\n",
      "\n",
      "The number of right-tailed outliers is 25\n",
      "The number of left-tailed outliers is 0\n"
     ]
    }
   ],
   "source": [
    "# Let's look at the min, max, 25th and 75th percentiles.\n",
    "\n",
    "minVal = df['gdpp'].min()\n",
    "Percentile25 = df['gdpp'].quantile(0.25)\n",
    "Percentile75 = df['gdpp'].quantile(0.75)\n",
    "maxVal = df['gdpp'].max()\n",
    "\n",
    "print(f'The minimum value in the column is {minVal}')\n",
    "print(f'The 25th percentile is {Percentile25}')\n",
    "print(f'The 75th percentile is {Percentile75}')\n",
    "print(f'The maximum value in the column is {maxVal}')\n",
    "print('')\n",
    "\n",
    "# Inter-quartile range\n",
    "IQR = Percentile75 - Percentile25\n",
    "\n",
    "# Lower and upper bounds\n",
    "# data points lying beyond these bounds will be considered as outliers\n",
    "GDPPerCap_LB = Percentile25 - 1.5*IQR\n",
    "GDPPerCap_UB = Percentile75 + 1.5*IQR\n",
    "\n",
    "print(f'The theoretical lower cut off comes out to be {GDPPerCap_LB}')\n",
    "print(f'The theoretical upper cut off comes out to be {GDPPerCap_UB}')\n",
    "print(\"\")\n",
    "\n",
    "rightTailedOutliers = df[df['gdpp'] > GDPPerCap_UB]['gdpp'].count()\n",
    "leftTailedOutliers = df[df['gdpp'] < GDPPerCap_LB]['gdpp'].count()\n",
    "\n",
    "print(f\"The number of right-tailed outliers is {rightTailedOutliers}\")\n",
    "print(f\"The number of left-tailed outliers is {leftTailedOutliers}\")"
   ]
  },
  {
   "cell_type": "markdown",
   "metadata": {},
   "source": [
    "*As we can see that for some of the countries out there, the GDP per capita is as high as $105,000 a year.*  \n",
    "*Luxembourg is one such country with such high GDP per capita figures suggesting that these values are realistic and therefore we wouldn't treat them.*"
   ]
  },
  {
   "cell_type": "markdown",
   "metadata": {},
   "source": [
    "## Data Visualization"
   ]
  },
  {
   "cell_type": "code",
   "execution_count": 18,
   "metadata": {},
   "outputs": [
    {
     "data": {
      "image/png": "[encoded data removed]",
      "text/plain": [
       "<Figure size 1200x500 with 2 Axes>"
      ]
     },
     "metadata": {},
     "output_type": "display_data"
    }
   ],
   "source": [
    "fig, axes = plt.subplots(1,2, figsize = (12,5))\n",
    "\n",
    "# let's look at the distribution of the Imports column\n",
    "axes[0].set_title('Distribution of Imports')\n",
    "axes[0].set_xlabel('Imports')\n",
    "sns.histplot(ax = axes[0], x= df['imports'], bins = 25, kde = True)\n",
    "\n",
    "# let's look at the distribution of the Exports column\n",
    "axes[1].set_title('Distribution of Exports')\n",
    "axes[1].set_xlabel('Exports')\n",
    "sns.histplot(ax = axes[1], x= df['exports'], bins = 25, kde = True)\n",
    "\n",
    "plt.show()"
   ]
  },
  {
   "cell_type": "code",
   "execution_count": 19,
   "metadata": {},
   "outputs": [
    {
     "data": {
      "image/png": "[encoded data removed]",
      "text/plain": [
       "<Figure size 1200x500 with 2 Axes>"
      ]
     },
     "metadata": {},
     "output_type": "display_data"
    }
   ],
   "source": [
    "fig, axes = plt.subplots(1,2, figsize = (12,5))\n",
    "\n",
    "# let's look at the distribution of the Imports column\n",
    "axes[0].set_title('Distribution of Per Capita Income')\n",
    "axes[0].set_xlabel('Income')\n",
    "sns.histplot(ax = axes[0], x= df['income'], bins = 25, kde = True)\n",
    "\n",
    "# let's look at the distribution of the Exports column\n",
    "axes[1].set_title('Distribution of GDP per capita')\n",
    "axes[1].set_xlabel('GDP per capita')\n",
    "sns.histplot(ax = axes[1], x= df['gdpp'], bins = 25, kde = True)\n",
    "\n",
    "plt.show()"
   ]
  },
  {
   "cell_type": "markdown",
   "metadata": {},
   "source": [
    "*As we can see from the visualizations above, that majority of the countries have a per capita income of under 20,000 US dollars, with some exceptions where the per capita income is close to 120,000 US dollars a year.*  \n",
    "*GDP per capita suggests the same pattern, with most of the data points lying below 20,000 US dollars, with a few exceptions where the GDP per capita is over 100,000 US dollars.*"
   ]
  },
  {
   "cell_type": "code",
   "execution_count": 20,
   "metadata": {},
   "outputs": [
    {
     "data": {
      "image/png": "[encoded data removed]",
      "text/plain": [
       "<Figure size 1200x500 with 2 Axes>"
      ]
     },
     "metadata": {},
     "output_type": "display_data"
    }
   ],
   "source": [
    "fig, axes = plt.subplots(1,2, figsize = (12,5))\n",
    "\n",
    "# let's look at the distribution of the Imports column\n",
    "axes[0].set_title('Distribution of Healthcare Spends of the countries')\n",
    "axes[0].set_xlabel('Healthcare Spends')\n",
    "sns.histplot(ax = axes[0], x= df['health'], bins = 25, kde = True)\n",
    "\n",
    "# let's look at the distribution of the Exports column\n",
    "axes[1].set_title('Distribution of Life Expectancy across countries')\n",
    "axes[1].set_xlabel('Life expectancy')\n",
    "sns.histplot(ax = axes[1], x= df['life_expec'], bins = 25, kde = True)\n",
    "\n",
    "plt.show()"
   ]
  },
  {
   "cell_type": "markdown",
   "metadata": {},
   "source": [
    "*As it's apparent from the visualizations above, for most of the countries the healthcare spend is between 4 to 8% of their GDP, with a few exceptions of some first world countries spending as high as 18% of their GDP on healthcare.*  \n",
    "*As for the life expectancy, we see a few outliers on the left side of the distribution suggesting life expectancy across a few countries to be as low as 30 years.*"
   ]
  },
  {
   "cell_type": "code",
   "execution_count": 21,
   "metadata": {},
   "outputs": [
    {
     "data": {
      "image/png": "[encoded data removed]",
      "text/plain": [
       "<Figure size 1200x500 with 2 Axes>"
      ]
     },
     "metadata": {},
     "output_type": "display_data"
    }
   ],
   "source": [
    "fig, axes = plt.subplots(1,2, figsize = (12,5))\n",
    "\n",
    "# let's look at the distribution of the Imports column\n",
    "axes[0].set_title('Distribution of No of Kids/ Woman')\n",
    "axes[0].set_xlabel('Total Fertility')\n",
    "sns.histplot(ax = axes[0], x= df['total_fer'], bins = 25, kde = True)\n",
    "\n",
    "# let's look at the distribution of the Exports column\n",
    "axes[1].set_title('Distribution of Child Mortality rates')\n",
    "axes[1].set_xlabel('Child Mortality')\n",
    "sns.histplot(ax = axes[1], x= df['child_mort'], bins = 25, kde = True)\n",
    "\n",
    "plt.show()"
   ]
  },
  {
   "cell_type": "markdown",
   "metadata": {},
   "source": [
    "*As we can see from the graphs above, that on an average, a woman is going to have two to three children, with the outliers indicating instances of women having up to seven children.*  \n",
    "*The child mortality rates per 1,000 also are below 40 for majority of the countries, with some outliers indicating child mortality rates as high as 200.*"
   ]
  },
  {
   "cell_type": "code",
   "execution_count": 22,
   "metadata": {},
   "outputs": [
    {
     "data": {
      "image/png": "[encoded data removed]",
      "text/plain": [
       "<Figure size 800x500 with 2 Axes>"
      ]
     },
     "metadata": {},
     "output_type": "display_data"
    }
   ],
   "source": [
    "# Heatmap showing the correlation bw different variables\n",
    "plt.figure(figsize = (8,5))\n",
    "sns.heatmap(df.drop(columns=['country']).corr())\n",
    "plt.title('Heatmap showing the correlation bw different variables')\n",
    "plt.xticks(rotation =45)\n",
    "plt.yticks(rotation =45)\n",
    "plt.show()"
   ]
  },
  {
   "cell_type": "markdown",
   "metadata": {},
   "source": [
    "**Observatons:**  \n",
    "*As we can see from the heatmap above, features like total fertility and child mortality have a higher correlation, suggesting that a woman is inclined to have more kids, if she knows that some of her kids may not survive.*  \n",
    "*Another observation is that GDP per capita and per capita income of the individuals have a higher correlation.*  \n",
    "*However, features like life expectancy and child mortality have a quite high negative correlation, suggesting that for these poor countries, the child mortality rates are going to be higher and the life expectancy is going to be lower in general.*"
   ]
  },
  {
   "cell_type": "markdown",
   "metadata": {},
   "source": [
    "## Clustering"
   ]
  },
  {
   "cell_type": "markdown",
   "metadata": {},
   "source": [
    "**Scaling**"
   ]
  },
  {
   "cell_type": "markdown",
   "metadata": {},
   "source": [
    "It's important to scale the Numerical features to bring them on the same scale as it might affect the working of the clustering algos coz of them being distance-based algorithms.  \n",
    "We'll use MinMaxScaler, transforming the feature values to fall within the bounded intervals (min and max)."
   ]
  },
  {
   "cell_type": "code",
   "execution_count": 23,
   "metadata": {},
   "outputs": [],
   "source": [
    "scaler = MinMaxScaler()\n",
    "NumCols = df.drop(columns=['country']).copy()\n",
    "df_scaled = scaler.fit_transform(NumCols)"
   ]
  },
  {
   "cell_type": "markdown",
   "metadata": {},
   "source": [
    "### A) K means Clustering"
   ]
  },
  {
   "cell_type": "markdown",
   "metadata": {},
   "source": [
    "**Elbow method**\n",
    "\n",
    "Let's calculate the Within Cluster Sum of Squared Errors (WCSS) for different values of K  \n",
    "And then choose the value (of k) for which WCSS first starts to flaten out."
   ]
  },
  {
   "cell_type": "code",
   "execution_count": 24,
   "metadata": {},
   "outputs": [],
   "source": [
    "# Inertia (Within Cluster Sum of Squares)\n",
    "kmeans_per_k = [KMeans(n_clusters=k, init='k-means++', random_state=17).fit(df_scaled)\n",
    "                for k in range(1, 10)]\n",
    "\n",
    "inertias = [model.inertia_ for model in kmeans_per_k]"
   ]
  },
  {
   "cell_type": "code",
   "execution_count": 25,
   "metadata": {},
   "outputs": [
    {
     "data": {
      "image/png": "[encoded data removed]",
      "text/plain": [
       "<Figure size 700x400 with 1 Axes>"
      ]
     },
     "metadata": {},
     "output_type": "display_data"
    }
   ],
   "source": [
    "plt.figure(figsize=(7, 4))\n",
    "plt.plot(range(1, 10), inertias, \"bo-\")\n",
    "plt.xlabel('K')\n",
    "plt.ylabel('Inertia')\n",
    "plt.annotate('Elbow',\n",
    "             xy=(5, inertias[4]),\n",
    "             xytext=(0.55, 0.55),\n",
    "             textcoords='figure fraction',\n",
    "             fontsize=12,\n",
    "             arrowprops=dict(facecolor='black', shrink=0.1)\n",
    "            )\n",
    "plt.show()"
   ]
  },
  {
   "cell_type": "markdown",
   "metadata": {},
   "source": [
    "*As we can see in the graph above, that beyond five clusters, the inertia really starts flattening out. So, we can assume 5 to be the optimal number of clusters that are there in the data.*"
   ]
  },
  {
   "cell_type": "code",
   "execution_count": 26,
   "metadata": {},
   "outputs": [],
   "source": [
    "# Let's build the model again with k = 5\n",
    "\n",
    "kmeans= KMeans(n_clusters=5, random_state=19)\n",
    "kmeans.fit(df_scaled)\n",
    "\n",
    "# Let's label the datapoints in the original df on the basis of the cluster assigned to them\n",
    "df_KMeans = df.copy()\n",
    "df_KMeans['cluster'] = kmeans.predict(df_scaled)"
   ]
  },
  {
   "cell_type": "markdown",
   "metadata": {},
   "source": [
    "*Let's look at some of the sample countries after labelling them acc to the category they fall into.*"
   ]
  },
  {
   "cell_type": "code",
   "execution_count": 27,
   "metadata": {},
   "outputs": [
    {
     "data": {
      "text/html": [
       "<div>\n",
       "<style scoped>\n",
       "    .dataframe tbody tr th:only-of-type {\n",
       "        vertical-align: middle;\n",
       "    }\n",
       "\n",
       "    .dataframe tbody tr th {\n",
       "        vertical-align: top;\n",
       "    }\n",
       "\n",
       "    .dataframe thead th {\n",
       "        text-align: right;\n",
       "    }\n",
       "</style>\n",
       "<table border=\"1\" class=\"dataframe\">\n",
       "  <thead>\n",
       "    <tr style=\"text-align: right;\">\n",
       "      <th></th>\n",
       "      <th>country</th>\n",
       "      <th>child_mort</th>\n",
       "      <th>exports</th>\n",
       "      <th>health</th>\n",
       "      <th>imports</th>\n",
       "      <th>income</th>\n",
       "      <th>inflation</th>\n",
       "      <th>life_expec</th>\n",
       "      <th>total_fer</th>\n",
       "      <th>gdpp</th>\n",
       "      <th>cluster</th>\n",
       "    </tr>\n",
       "  </thead>\n",
       "  <tbody>\n",
       "    <tr>\n",
       "      <th>36</th>\n",
       "      <td>Comoros</td>\n",
       "      <td>88.20</td>\n",
       "      <td>16.50</td>\n",
       "      <td>4.51</td>\n",
       "      <td>51.70</td>\n",
       "      <td>1410</td>\n",
       "      <td>3.87</td>\n",
       "      <td>65.90</td>\n",
       "      <td>4.75</td>\n",
       "      <td>769</td>\n",
       "      <td>1</td>\n",
       "    </tr>\n",
       "    <tr>\n",
       "      <th>35</th>\n",
       "      <td>Colombia</td>\n",
       "      <td>18.60</td>\n",
       "      <td>15.90</td>\n",
       "      <td>7.59</td>\n",
       "      <td>17.80</td>\n",
       "      <td>10900</td>\n",
       "      <td>3.86</td>\n",
       "      <td>76.40</td>\n",
       "      <td>2.01</td>\n",
       "      <td>6250</td>\n",
       "      <td>2</td>\n",
       "    </tr>\n",
       "    <tr>\n",
       "      <th>47</th>\n",
       "      <td>Egypt</td>\n",
       "      <td>29.10</td>\n",
       "      <td>21.30</td>\n",
       "      <td>4.66</td>\n",
       "      <td>26.60</td>\n",
       "      <td>9860</td>\n",
       "      <td>10.10</td>\n",
       "      <td>70.50</td>\n",
       "      <td>3.19</td>\n",
       "      <td>2600</td>\n",
       "      <td>0</td>\n",
       "    </tr>\n",
       "    <tr>\n",
       "      <th>153</th>\n",
       "      <td>Turkey</td>\n",
       "      <td>19.10</td>\n",
       "      <td>20.40</td>\n",
       "      <td>6.74</td>\n",
       "      <td>25.50</td>\n",
       "      <td>18000</td>\n",
       "      <td>7.01</td>\n",
       "      <td>78.20</td>\n",
       "      <td>2.15</td>\n",
       "      <td>10700</td>\n",
       "      <td>2</td>\n",
       "    </tr>\n",
       "    <tr>\n",
       "      <th>162</th>\n",
       "      <td>Vanuatu</td>\n",
       "      <td>29.20</td>\n",
       "      <td>46.60</td>\n",
       "      <td>5.25</td>\n",
       "      <td>52.70</td>\n",
       "      <td>2950</td>\n",
       "      <td>2.62</td>\n",
       "      <td>63.00</td>\n",
       "      <td>3.50</td>\n",
       "      <td>2970</td>\n",
       "      <td>0</td>\n",
       "    </tr>\n",
       "  </tbody>\n",
       "</table>\n",
       "</div>"
      ],
      "text/plain": [
       "      country  child_mort  exports  health  imports  income  inflation  \\\n",
       "36    Comoros       88.20    16.50    4.51    51.70    1410       3.87   \n",
       "35   Colombia       18.60    15.90    7.59    17.80   10900       3.86   \n",
       "47      Egypt       29.10    21.30    4.66    26.60    9860      10.10   \n",
       "153    Turkey       19.10    20.40    6.74    25.50   18000       7.01   \n",
       "162   Vanuatu       29.20    46.60    5.25    52.70    2950       2.62   \n",
       "\n",
       "     life_expec  total_fer   gdpp  cluster  \n",
       "36        65.90       4.75    769        1  \n",
       "35        76.40       2.01   6250        2  \n",
       "47        70.50       3.19   2600        0  \n",
       "153       78.20       2.15  10700        2  \n",
       "162       63.00       3.50   2970        0  "
      ]
     },
     "execution_count": 27,
     "metadata": {},
     "output_type": "execute_result"
    }
   ],
   "source": [
    "df_KMeans.sample(5)"
   ]
  },
  {
   "cell_type": "markdown",
   "metadata": {},
   "source": [
    "*Let's look at the averages of the features when the countries are grouped into their respective categories.*"
   ]
  },
  {
   "cell_type": "code",
   "execution_count": 28,
   "metadata": {},
   "outputs": [
    {
     "data": {
      "text/html": [
       "<div>\n",
       "<style scoped>\n",
       "    .dataframe tbody tr th:only-of-type {\n",
       "        vertical-align: middle;\n",
       "    }\n",
       "\n",
       "    .dataframe tbody tr th {\n",
       "        vertical-align: top;\n",
       "    }\n",
       "\n",
       "    .dataframe thead th {\n",
       "        text-align: right;\n",
       "    }\n",
       "</style>\n",
       "<table border=\"1\" class=\"dataframe\">\n",
       "  <thead>\n",
       "    <tr style=\"text-align: right;\">\n",
       "      <th></th>\n",
       "      <th>child_mort</th>\n",
       "      <th>exports</th>\n",
       "      <th>health</th>\n",
       "      <th>imports</th>\n",
       "      <th>income</th>\n",
       "      <th>inflation</th>\n",
       "      <th>life_expec</th>\n",
       "      <th>total_fer</th>\n",
       "      <th>gdpp</th>\n",
       "    </tr>\n",
       "    <tr>\n",
       "      <th>cluster</th>\n",
       "      <th></th>\n",
       "      <th></th>\n",
       "      <th></th>\n",
       "      <th></th>\n",
       "      <th></th>\n",
       "      <th></th>\n",
       "      <th></th>\n",
       "      <th></th>\n",
       "      <th></th>\n",
       "    </tr>\n",
       "  </thead>\n",
       "  <tbody>\n",
       "    <tr>\n",
       "      <th>0</th>\n",
       "      <td>32.67</td>\n",
       "      <td>37.07</td>\n",
       "      <td>5.20</td>\n",
       "      <td>42.33</td>\n",
       "      <td>10408.24</td>\n",
       "      <td>10.15</td>\n",
       "      <td>69.69</td>\n",
       "      <td>2.80</td>\n",
       "      <td>4831.02</td>\n",
       "    </tr>\n",
       "    <tr>\n",
       "      <th>1</th>\n",
       "      <td>98.23</td>\n",
       "      <td>27.26</td>\n",
       "      <td>6.34</td>\n",
       "      <td>42.62</td>\n",
       "      <td>2913.49</td>\n",
       "      <td>12.29</td>\n",
       "      <td>58.97</td>\n",
       "      <td>5.23</td>\n",
       "      <td>1393.71</td>\n",
       "    </tr>\n",
       "    <tr>\n",
       "      <th>2</th>\n",
       "      <td>11.99</td>\n",
       "      <td>46.69</td>\n",
       "      <td>7.63</td>\n",
       "      <td>53.61</td>\n",
       "      <td>17032.39</td>\n",
       "      <td>4.21</td>\n",
       "      <td>75.53</td>\n",
       "      <td>1.80</td>\n",
       "      <td>10599.78</td>\n",
       "    </tr>\n",
       "    <tr>\n",
       "      <th>3</th>\n",
       "      <td>5.15</td>\n",
       "      <td>45.42</td>\n",
       "      <td>9.30</td>\n",
       "      <td>38.00</td>\n",
       "      <td>47588.46</td>\n",
       "      <td>2.98</td>\n",
       "      <td>80.46</td>\n",
       "      <td>1.86</td>\n",
       "      <td>46200.00</td>\n",
       "    </tr>\n",
       "    <tr>\n",
       "      <th>4</th>\n",
       "      <td>4.13</td>\n",
       "      <td>176.00</td>\n",
       "      <td>6.79</td>\n",
       "      <td>156.67</td>\n",
       "      <td>64033.33</td>\n",
       "      <td>2.47</td>\n",
       "      <td>81.43</td>\n",
       "      <td>1.38</td>\n",
       "      <td>57566.67</td>\n",
       "    </tr>\n",
       "  </tbody>\n",
       "</table>\n",
       "</div>"
      ],
      "text/plain": [
       "         child_mort  exports  health  imports   income  inflation  life_expec  \\\n",
       "cluster                                                                         \n",
       "0             32.67    37.07    5.20    42.33 10408.24      10.15       69.69   \n",
       "1             98.23    27.26    6.34    42.62  2913.49      12.29       58.97   \n",
       "2             11.99    46.69    7.63    53.61 17032.39       4.21       75.53   \n",
       "3              5.15    45.42    9.30    38.00 47588.46       2.98       80.46   \n",
       "4              4.13   176.00    6.79   156.67 64033.33       2.47       81.43   \n",
       "\n",
       "         total_fer     gdpp  \n",
       "cluster                      \n",
       "0             2.80  4831.02  \n",
       "1             5.23  1393.71  \n",
       "2             1.80 10599.78  \n",
       "3             1.86 46200.00  \n",
       "4             1.38 57566.67  "
      ]
     },
     "execution_count": 28,
     "metadata": {},
     "output_type": "execute_result"
    }
   ],
   "source": [
    "df_KMeans.groupby('cluster').mean(numeric_only=True)"
   ]
  },
  {
   "cell_type": "markdown",
   "metadata": {},
   "source": [
    "*As we can see that the clustering seems pretty logical. For instance, countries grouped under Category 1 show relatively high child mortality rates. This is consistent with the observation that women in these nations tend to have more children, partly due to the awareness that some may not survive. Secondly, the per capita income (<3000 USD) and GDP per capita (<1400 USD) for these countries is on the lower side as well.*\n",
    "\n",
    "*Now when you contrast it with the countries from Category 4, you find that these countries have a significantly lower child mortality rate and the life expectancy in general is also upwards of 80. Plus, the per capita income and GDP per capita is also among the highest.* "
   ]
  },
  {
   "cell_type": "markdown",
   "metadata": {},
   "source": [
    "**Silhouette score for K Means with 5 clusters**"
   ]
  },
  {
   "cell_type": "code",
   "execution_count": 29,
   "metadata": {},
   "outputs": [
    {
     "data": {
      "text/plain": [
       "0.24057652926925185"
      ]
     },
     "execution_count": 29,
     "metadata": {},
     "output_type": "execute_result"
    }
   ],
   "source": [
    "silhouette_score(df_scaled, kmeans.labels_)"
   ]
  },
  {
   "cell_type": "markdown",
   "metadata": {},
   "source": [
    "**Insight:**  \n",
    "*The silhouette score of just 0.24 suggests that while there is some structure, the clusters are not very distinct — points are relatively close to neighboring clusters, and boundaries are fuzzy.*"
   ]
  },
  {
   "cell_type": "markdown",
   "metadata": {},
   "source": [
    "### B) Hierarchical Clustering"
   ]
  },
  {
   "cell_type": "markdown",
   "metadata": {},
   "source": [
    "Agglomerative clustering is a bottom-up hierarchical method that starts with each data point as its own cluster and iteratively merges the closest pairs until all points belong to a single cluster or a stopping criterion is met."
   ]
  },
  {
   "cell_type": "code",
   "execution_count": 30,
   "metadata": {},
   "outputs": [],
   "source": [
    "# Linkage matrix\n",
    "Z = hc.linkage(df_scaled, method = 'ward')"
   ]
  },
  {
   "cell_type": "code",
   "execution_count": 31,
   "metadata": {},
   "outputs": [
    {
     "data": {
      "text/plain": [
       "Text(0, 0.5, 'distance')"
      ]
     },
     "execution_count": 31,
     "metadata": {},
     "output_type": "execute_result"
    },
    {
     "data": {
      "image/png": "[encoded data removed]",
      "text/plain": [
       "<Figure size 2000x1200 with 1 Axes>"
      ]
     },
     "metadata": {},
     "output_type": "display_data"
    }
   ],
   "source": [
    "fig, ax = plt.subplots(figsize=(20, 12))\n",
    "\n",
    "hc.dendrogram(Z, ax = ax, color_threshold=2)\n",
    "plt.xticks(rotation = 90)\n",
    "# Drawing a horizontal line at a distance of 1.7 \n",
    "plt.axhline(y=1.7, color='k', linestyle='--')\n",
    "ax.set_ylabel('distance')"
   ]
  },
  {
   "cell_type": "markdown",
   "metadata": {},
   "source": [
    "*The dendogramic distance along the y-axis signifies as to at what level of similarity the clusters were merged.*  \n",
    "*If we draw a horizontal line at a dendrogrammic distance of, say, 1.7, the number of vertical lines it intersects with, gives us the number of clusters, in this case, 6.*"
   ]
  },
  {
   "cell_type": "markdown",
   "metadata": {},
   "source": [
    "**We are going to build several hierarchical clustering models, considering the number of clusters ranging from 2-10, and decide on the basis of the silhouette score.**"
   ]
  },
  {
   "cell_type": "code",
   "execution_count": 32,
   "metadata": {},
   "outputs": [],
   "source": [
    "## Trying for values bw 2-10 for n_clusters and finding the corresponding silhoutte score\n",
    "\n",
    "def hierarchical_clustering_silhouette(dataset, n_clusters):\n",
    "    clustering = AgglomerativeClustering(n_clusters=n_clusters)\n",
    "    labels = clustering.fit_predict(dataset)\n",
    "    silhouette = silhouette_score(dataset, labels)\n",
    "    return silhouette"
   ]
  },
  {
   "cell_type": "code",
   "execution_count": 33,
   "metadata": {},
   "outputs": [
    {
     "name": "stdout",
     "output_type": "stream",
     "text": [
      "For n_clusters = 2, the average silhouette_score is : 0.37713531131793254\n",
      "For n_clusters = 3, the average silhouette_score is : 0.31627506051649634\n",
      "For n_clusters = 4, the average silhouette_score is : 0.31677468820192906\n",
      "For n_clusters = 5, the average silhouette_score is : 0.22858307892680912\n",
      "For n_clusters = 6, the average silhouette_score is : 0.25517718339753337\n",
      "For n_clusters = 7, the average silhouette_score is : 0.22088275007790625\n",
      "For n_clusters = 8, the average silhouette_score is : 0.20708706242955838\n",
      "For n_clusters = 9, the average silhouette_score is : 0.21171683610915407\n",
      "For n_clusters = 10, the average silhouette_score is : 0.2168813110359832\n"
     ]
    }
   ],
   "source": [
    "for n_clusters in range(2,11):\n",
    "  sil_avg = hierarchical_clustering_silhouette(df_scaled, n_clusters)\n",
    "  print(f\"For n_clusters = {n_clusters}, the average silhouette_score is : {sil_avg}\")"
   ]
  },
  {
   "cell_type": "markdown",
   "metadata": {},
   "source": [
    "### C) DBSCAN"
   ]
  },
  {
   "cell_type": "markdown",
   "metadata": {},
   "source": [
    "DBSCAN groups together points that are densely packed (within a pre-defined radius and min number of neighbors) while marking sparse, isolated points as noise."
   ]
  },
  {
   "cell_type": "code",
   "execution_count": 34,
   "metadata": {},
   "outputs": [],
   "source": [
    "df_DBSCAN = df.copy()"
   ]
  },
  {
   "cell_type": "code",
   "execution_count": 35,
   "metadata": {},
   "outputs": [
    {
     "name": "stdout",
     "output_type": "stream",
     "text": [
      "eps=0.01, neighbours = 5, clusters=0, silhouette=N/A (invalid)\n",
      "eps=0.05, neighbours = 5, clusters=0, silhouette=N/A (invalid)\n",
      "eps=0.10, neighbours = 5, clusters=0, silhouette=N/A (invalid)\n",
      "eps=1.00, neighbours = 5, clusters=1, silhouette=N/A (invalid)\n",
      "eps=5.00, neighbours = 5, clusters=1, silhouette=N/A (invalid)\n",
      "eps=10.00, neighbours = 5, clusters=1, silhouette=N/A (invalid)\n",
      "eps=0.01, neighbours = 10, clusters=0, silhouette=N/A (invalid)\n",
      "eps=0.05, neighbours = 10, clusters=0, silhouette=N/A (invalid)\n",
      "eps=0.10, neighbours = 10, clusters=0, silhouette=N/A (invalid)\n",
      "eps=1.00, neighbours = 10, clusters=1, silhouette=N/A (invalid)\n",
      "eps=5.00, neighbours = 10, clusters=1, silhouette=N/A (invalid)\n",
      "eps=10.00, neighbours = 10, clusters=1, silhouette=N/A (invalid)\n",
      "eps=0.01, neighbours = 15, clusters=0, silhouette=N/A (invalid)\n",
      "eps=0.05, neighbours = 15, clusters=0, silhouette=N/A (invalid)\n",
      "eps=0.10, neighbours = 15, clusters=0, silhouette=N/A (invalid)\n",
      "eps=1.00, neighbours = 15, clusters=1, silhouette=N/A (invalid)\n",
      "eps=5.00, neighbours = 15, clusters=1, silhouette=N/A (invalid)\n",
      "eps=10.00, neighbours = 15, clusters=1, silhouette=N/A (invalid)\n",
      "eps=0.01, neighbours = 20, clusters=0, silhouette=N/A (invalid)\n",
      "eps=0.05, neighbours = 20, clusters=0, silhouette=N/A (invalid)\n",
      "eps=0.10, neighbours = 20, clusters=0, silhouette=N/A (invalid)\n",
      "eps=1.00, neighbours = 20, clusters=1, silhouette=N/A (invalid)\n",
      "eps=5.00, neighbours = 20, clusters=1, silhouette=N/A (invalid)\n",
      "eps=10.00, neighbours = 20, clusters=1, silhouette=N/A (invalid)\n"
     ]
    }
   ],
   "source": [
    "# Define ranges for eps and min_samples\n",
    "epsilons = [0.01, 0.05, 0.1, 1.0, 5.0, 10.0]       \n",
    "min_neighbours = [5, 10, 15, 20]         \n",
    "\n",
    "# Loop through all combinations\n",
    "for n_neighbours in min_neighbours:\n",
    "    for e in epsilons:\n",
    "        # Initialize DBSCAN with current epsilon and min_samples\n",
    "        dbsc = DBSCAN(eps=e, min_samples=n_neighbours)\n",
    "        \n",
    "        # Fit the model to the scaled dataset\n",
    "        dbsc.fit(df_scaled)\n",
    "        \n",
    "        # Save the cluster labels (-1 means noise)\n",
    "        labels = dbsc.labels_\n",
    "\n",
    "        # Count clusters, excluding noise points (-1)\n",
    "        num_clusters = len(set(labels)) - (1 if -1 in labels else 0)\n",
    "\n",
    "        # Only compute silhouette score if there are at least 2 clusters\n",
    "        if num_clusters > 1:\n",
    "            score = silhouette_score(df_scaled, labels)\n",
    "            print(f\"eps={e:.2f}, neighbours = {n_neighbours}, clusters={num_clusters}, silhouette={score:.3f}\")\n",
    "        else:\n",
    "            print(f\"eps={e:.2f}, neighbours = {n_neighbours}, clusters={num_clusters}, silhouette=N/A (invalid)\")"
   ]
  },
  {
   "cell_type": "markdown",
   "metadata": {},
   "source": [
    "**Insight:**\n",
    "\n",
    "*As we can see that DBSCAN is giving abysmal results for the hyperparameter combinations that we've tried*  \n",
    "*It could be due to our dataset being more continuous/gradient-like rather than having clear dense blobs, causing DBSCAN to struggle.*  \n",
    "*As a result, the algorithm is treating most of the points as **Noise** or putting everything in one big cluster, explaining why silhouette is **Invalid** in most runs.*"
   ]
  },
  {
   "cell_type": "markdown",
   "metadata": {},
   "source": [
    "### Model Finalization"
   ]
  },
  {
   "cell_type": "markdown",
   "metadata": {},
   "source": [
    "*From all the models we've tried, we can conclude that DBSCAN is not an appropriate choice of model at all.*  \n",
    "*K-means and Agglomerative clustering are giving similar results.*  \n",
    "\n",
    "*As for the Agglomerative clustering, it's is tricky in production because it doesn’t learn centroids like KMeans; it only clusters the training data it was fit on. This means new, unseen data can’t be directly assigned to clusters without rebuilding the entire hierarchy, which is computationally expensive and inconsistent.*  \n",
    "\n",
    "*So, we'd finalize K Means algorith with n_clusters set to 5*"
   ]
  },
  {
   "cell_type": "code",
   "execution_count": 36,
   "metadata": {},
   "outputs": [
    {
     "data": {
      "text/html": [
       "<style>#sk-container-id-1 {\n",
       "  /* Definition of color scheme common for light and dark mode */\n",
       "  --sklearn-color-text: #000;\n",
       "  --sklearn-color-text-muted: #666;\n",
       "  --sklearn-color-line: gray;\n",
       "  /* Definition of color scheme for unfitted estimators */\n",
       "  --sklearn-color-unfitted-level-0: #fff5e6;\n",
       "  --sklearn-color-unfitted-level-1: #f6e4d2;\n",
       "  --sklearn-color-unfitted-level-2: #ffe0b3;\n",
       "  --sklearn-color-unfitted-level-3: chocolate;\n",
       "  /* Definition of color scheme for fitted estimators */\n",
       "  --sklearn-color-fitted-level-0: #f0f8ff;\n",
       "  --sklearn-color-fitted-level-1: #d4ebff;\n",
       "  --sklearn-color-fitted-level-2: #b3dbfd;\n",
       "  --sklearn-color-fitted-level-3: cornflowerblue;\n",
       "\n",
       "  /* Specific color for light theme */\n",
       "  --sklearn-color-text-on-default-background: var(--sg-text-color, var(--theme-code-foreground, var(--jp-content-font-color1, black)));\n",
       "  --sklearn-color-background: var(--sg-background-color, var(--theme-background, var(--jp-layout-color0, white)));\n",
       "  --sklearn-color-border-box: var(--sg-text-color, var(--theme-code-foreground, var(--jp-content-font-color1, black)));\n",
       "  --sklearn-color-icon: #696969;\n",
       "\n",
       "  @media (prefers-color-scheme: dark) {\n",
       "    /* Redefinition of color scheme for dark theme */\n",
       "    --sklearn-color-text-on-default-background: var(--sg-text-color, var(--theme-code-foreground, var(--jp-content-font-color1, white)));\n",
       "    --sklearn-color-background: var(--sg-background-color, var(--theme-background, var(--jp-layout-color0, #111)));\n",
       "    --sklearn-color-border-box: var(--sg-text-color, var(--theme-code-foreground, var(--jp-content-font-color1, white)));\n",
       "    --sklearn-color-icon: #878787;\n",
       "  }\n",
       "}\n",
       "\n",
       "#sk-container-id-1 {\n",
       "  color: var(--sklearn-color-text);\n",
       "}\n",
       "\n",
       "#sk-container-id-1 pre {\n",
       "  padding: 0;\n",
       "}\n",
       "\n",
       "#sk-container-id-1 input.sk-hidden--visually {\n",
       "  border: 0;\n",
       "  clip: rect(1px 1px 1px 1px);\n",
       "  clip: rect(1px, 1px, 1px, 1px);\n",
       "  height: 1px;\n",
       "  margin: -1px;\n",
       "  overflow: hidden;\n",
       "  padding: 0;\n",
       "  position: absolute;\n",
       "  width: 1px;\n",
       "}\n",
       "\n",
       "#sk-container-id-1 div.sk-dashed-wrapped {\n",
       "  border: 1px dashed var(--sklearn-color-line);\n",
       "  margin: 0 0.4em 0.5em 0.4em;\n",
       "  box-sizing: border-box;\n",
       "  padding-bottom: 0.4em;\n",
       "  background-color: var(--sklearn-color-background);\n",
       "}\n",
       "\n",
       "#sk-container-id-1 div.sk-container {\n",
       "  /* jupyter's `normalize.less` sets `[hidden] { display: none; }`\n",
       "     but bootstrap.min.css set `[hidden] { display: none !important; }`\n",
       "     so we also need the `!important` here to be able to override the\n",
       "     default hidden behavior on the sphinx rendered scikit-learn.org.\n",
       "     See: https://github.com/scikit-learn/scikit-learn/issues/21755 */\n",
       "  display: inline-block !important;\n",
       "  position: relative;\n",
       "}\n",
       "\n",
       "#sk-container-id-1 div.sk-text-repr-fallback {\n",
       "  display: none;\n",
       "}\n",
       "\n",
       "div.sk-parallel-item,\n",
       "div.sk-serial,\n",
       "div.sk-item {\n",
       "  /* draw centered vertical line to link estimators */\n",
       "  background-image: linear-gradient(var(--sklearn-color-text-on-default-background), var(--sklearn-color-text-on-default-background));\n",
       "  background-size: 2px 100%;\n",
       "  background-repeat: no-repeat;\n",
       "  background-position: center center;\n",
       "}\n",
       "\n",
       "/* Parallel-specific style estimator block */\n",
       "\n",
       "#sk-container-id-1 div.sk-parallel-item::after {\n",
       "  content: \"\";\n",
       "  width: 100%;\n",
       "  border-bottom: 2px solid var(--sklearn-color-text-on-default-background);\n",
       "  flex-grow: 1;\n",
       "}\n",
       "\n",
       "#sk-container-id-1 div.sk-parallel {\n",
       "  display: flex;\n",
       "  align-items: stretch;\n",
       "  justify-content: center;\n",
       "  background-color: var(--sklearn-color-background);\n",
       "  position: relative;\n",
       "}\n",
       "\n",
       "#sk-container-id-1 div.sk-parallel-item {\n",
       "  display: flex;\n",
       "  flex-direction: column;\n",
       "}\n",
       "\n",
       "#sk-container-id-1 div.sk-parallel-item:first-child::after {\n",
       "  align-self: flex-end;\n",
       "  width: 50%;\n",
       "}\n",
       "\n",
       "#sk-container-id-1 div.sk-parallel-item:last-child::after {\n",
       "  align-self: flex-start;\n",
       "  width: 50%;\n",
       "}\n",
       "\n",
       "#sk-container-id-1 div.sk-parallel-item:only-child::after {\n",
       "  width: 0;\n",
       "}\n",
       "\n",
       "/* Serial-specific style estimator block */\n",
       "\n",
       "#sk-container-id-1 div.sk-serial {\n",
       "  display: flex;\n",
       "  flex-direction: column;\n",
       "  align-items: center;\n",
       "  background-color: var(--sklearn-color-background);\n",
       "  padding-right: 1em;\n",
       "  padding-left: 1em;\n",
       "}\n",
       "\n",
       "\n",
       "/* Toggleable style: style used for estimator/Pipeline/ColumnTransformer box that is\n",
       "clickable and can be expanded/collapsed.\n",
       "- Pipeline and ColumnTransformer use this feature and define the default style\n",
       "- Estimators will overwrite some part of the style using the `sk-estimator` class\n",
       "*/\n",
       "\n",
       "/* Pipeline and ColumnTransformer style (default) */\n",
       "\n",
       "#sk-container-id-1 div.sk-toggleable {\n",
       "  /* Default theme specific background. It is overwritten whether we have a\n",
       "  specific estimator or a Pipeline/ColumnTransformer */\n",
       "  background-color: var(--sklearn-color-background);\n",
       "}\n",
       "\n",
       "/* Toggleable label */\n",
       "#sk-container-id-1 label.sk-toggleable__label {\n",
       "  cursor: pointer;\n",
       "  display: flex;\n",
       "  width: 100%;\n",
       "  margin-bottom: 0;\n",
       "  padding: 0.5em;\n",
       "  box-sizing: border-box;\n",
       "  text-align: center;\n",
       "  align-items: start;\n",
       "  justify-content: space-between;\n",
       "  gap: 0.5em;\n",
       "}\n",
       "\n",
       "#sk-container-id-1 label.sk-toggleable__label .caption {\n",
       "  font-size: 0.6rem;\n",
       "  font-weight: lighter;\n",
       "  color: var(--sklearn-color-text-muted);\n",
       "}\n",
       "\n",
       "#sk-container-id-1 label.sk-toggleable__label-arrow:before {\n",
       "  /* Arrow on the left of the label */\n",
       "  content: \"▸\";\n",
       "  float: left;\n",
       "  margin-right: 0.25em;\n",
       "  color: var(--sklearn-color-icon);\n",
       "}\n",
       "\n",
       "#sk-container-id-1 label.sk-toggleable__label-arrow:hover:before {\n",
       "  color: var(--sklearn-color-text);\n",
       "}\n",
       "\n",
       "/* Toggleable content - dropdown */\n",
       "\n",
       "#sk-container-id-1 div.sk-toggleable__content {\n",
       "  display: none;\n",
       "  text-align: left;\n",
       "  /* unfitted */\n",
       "  background-color: var(--sklearn-color-unfitted-level-0);\n",
       "}\n",
       "\n",
       "#sk-container-id-1 div.sk-toggleable__content.fitted {\n",
       "  /* fitted */\n",
       "  background-color: var(--sklearn-color-fitted-level-0);\n",
       "}\n",
       "\n",
       "#sk-container-id-1 div.sk-toggleable__content pre {\n",
       "  margin: 0.2em;\n",
       "  border-radius: 0.25em;\n",
       "  color: var(--sklearn-color-text);\n",
       "  /* unfitted */\n",
       "  background-color: var(--sklearn-color-unfitted-level-0);\n",
       "}\n",
       "\n",
       "#sk-container-id-1 div.sk-toggleable__content.fitted pre {\n",
       "  /* unfitted */\n",
       "  background-color: var(--sklearn-color-fitted-level-0);\n",
       "}\n",
       "\n",
       "#sk-container-id-1 input.sk-toggleable__control:checked~div.sk-toggleable__content {\n",
       "  /* Expand drop-down */\n",
       "  display: block;\n",
       "  width: 100%;\n",
       "  overflow: visible;\n",
       "}\n",
       "\n",
       "#sk-container-id-1 input.sk-toggleable__control:checked~label.sk-toggleable__label-arrow:before {\n",
       "  content: \"▾\";\n",
       "}\n",
       "\n",
       "/* Pipeline/ColumnTransformer-specific style */\n",
       "\n",
       "#sk-container-id-1 div.sk-label input.sk-toggleable__control:checked~label.sk-toggleable__label {\n",
       "  color: var(--sklearn-color-text);\n",
       "  background-color: var(--sklearn-color-unfitted-level-2);\n",
       "}\n",
       "\n",
       "#sk-container-id-1 div.sk-label.fitted input.sk-toggleable__control:checked~label.sk-toggleable__label {\n",
       "  background-color: var(--sklearn-color-fitted-level-2);\n",
       "}\n",
       "\n",
       "/* Estimator-specific style */\n",
       "\n",
       "/* Colorize estimator box */\n",
       "#sk-container-id-1 div.sk-estimator input.sk-toggleable__control:checked~label.sk-toggleable__label {\n",
       "  /* unfitted */\n",
       "  background-color: var(--sklearn-color-unfitted-level-2);\n",
       "}\n",
       "\n",
       "#sk-container-id-1 div.sk-estimator.fitted input.sk-toggleable__control:checked~label.sk-toggleable__label {\n",
       "  /* fitted */\n",
       "  background-color: var(--sklearn-color-fitted-level-2);\n",
       "}\n",
       "\n",
       "#sk-container-id-1 div.sk-label label.sk-toggleable__label,\n",
       "#sk-container-id-1 div.sk-label label {\n",
       "  /* The background is the default theme color */\n",
       "  color: var(--sklearn-color-text-on-default-background);\n",
       "}\n",
       "\n",
       "/* On hover, darken the color of the background */\n",
       "#sk-container-id-1 div.sk-label:hover label.sk-toggleable__label {\n",
       "  color: var(--sklearn-color-text);\n",
       "  background-color: var(--sklearn-color-unfitted-level-2);\n",
       "}\n",
       "\n",
       "/* Label box, darken color on hover, fitted */\n",
       "#sk-container-id-1 div.sk-label.fitted:hover label.sk-toggleable__label.fitted {\n",
       "  color: var(--sklearn-color-text);\n",
       "  background-color: var(--sklearn-color-fitted-level-2);\n",
       "}\n",
       "\n",
       "/* Estimator label */\n",
       "\n",
       "#sk-container-id-1 div.sk-label label {\n",
       "  font-family: monospace;\n",
       "  font-weight: bold;\n",
       "  display: inline-block;\n",
       "  line-height: 1.2em;\n",
       "}\n",
       "\n",
       "#sk-container-id-1 div.sk-label-container {\n",
       "  text-align: center;\n",
       "}\n",
       "\n",
       "/* Estimator-specific */\n",
       "#sk-container-id-1 div.sk-estimator {\n",
       "  font-family: monospace;\n",
       "  border: 1px dotted var(--sklearn-color-border-box);\n",
       "  border-radius: 0.25em;\n",
       "  box-sizing: border-box;\n",
       "  margin-bottom: 0.5em;\n",
       "  /* unfitted */\n",
       "  background-color: var(--sklearn-color-unfitted-level-0);\n",
       "}\n",
       "\n",
       "#sk-container-id-1 div.sk-estimator.fitted {\n",
       "  /* fitted */\n",
       "  background-color: var(--sklearn-color-fitted-level-0);\n",
       "}\n",
       "\n",
       "/* on hover */\n",
       "#sk-container-id-1 div.sk-estimator:hover {\n",
       "  /* unfitted */\n",
       "  background-color: var(--sklearn-color-unfitted-level-2);\n",
       "}\n",
       "\n",
       "#sk-container-id-1 div.sk-estimator.fitted:hover {\n",
       "  /* fitted */\n",
       "  background-color: var(--sklearn-color-fitted-level-2);\n",
       "}\n",
       "\n",
       "/* Specification for estimator info (e.g. \"i\" and \"?\") */\n",
       "\n",
       "/* Common style for \"i\" and \"?\" */\n",
       "\n",
       ".sk-estimator-doc-link,\n",
       "a:link.sk-estimator-doc-link,\n",
       "a:visited.sk-estimator-doc-link {\n",
       "  float: right;\n",
       "  font-size: smaller;\n",
       "  line-height: 1em;\n",
       "  font-family: monospace;\n",
       "  background-color: var(--sklearn-color-background);\n",
       "  border-radius: 1em;\n",
       "  height: 1em;\n",
       "  width: 1em;\n",
       "  text-decoration: none !important;\n",
       "  margin-left: 0.5em;\n",
       "  text-align: center;\n",
       "  /* unfitted */\n",
       "  border: var(--sklearn-color-unfitted-level-1) 1pt solid;\n",
       "  color: var(--sklearn-color-unfitted-level-1);\n",
       "}\n",
       "\n",
       ".sk-estimator-doc-link.fitted,\n",
       "a:link.sk-estimator-doc-link.fitted,\n",
       "a:visited.sk-estimator-doc-link.fitted {\n",
       "  /* fitted */\n",
       "  border: var(--sklearn-color-fitted-level-1) 1pt solid;\n",
       "  color: var(--sklearn-color-fitted-level-1);\n",
       "}\n",
       "\n",
       "/* On hover */\n",
       "div.sk-estimator:hover .sk-estimator-doc-link:hover,\n",
       ".sk-estimator-doc-link:hover,\n",
       "div.sk-label-container:hover .sk-estimator-doc-link:hover,\n",
       ".sk-estimator-doc-link:hover {\n",
       "  /* unfitted */\n",
       "  background-color: var(--sklearn-color-unfitted-level-3);\n",
       "  color: var(--sklearn-color-background);\n",
       "  text-decoration: none;\n",
       "}\n",
       "\n",
       "div.sk-estimator.fitted:hover .sk-estimator-doc-link.fitted:hover,\n",
       ".sk-estimator-doc-link.fitted:hover,\n",
       "div.sk-label-container:hover .sk-estimator-doc-link.fitted:hover,\n",
       ".sk-estimator-doc-link.fitted:hover {\n",
       "  /* fitted */\n",
       "  background-color: var(--sklearn-color-fitted-level-3);\n",
       "  color: var(--sklearn-color-background);\n",
       "  text-decoration: none;\n",
       "}\n",
       "\n",
       "/* Span, style for the box shown on hovering the info icon */\n",
       ".sk-estimator-doc-link span {\n",
       "  display: none;\n",
       "  z-index: 9999;\n",
       "  position: relative;\n",
       "  font-weight: normal;\n",
       "  right: .2ex;\n",
       "  padding: .5ex;\n",
       "  margin: .5ex;\n",
       "  width: min-content;\n",
       "  min-width: 20ex;\n",
       "  max-width: 50ex;\n",
       "  color: var(--sklearn-color-text);\n",
       "  box-shadow: 2pt 2pt 4pt #999;\n",
       "  /* unfitted */\n",
       "  background: var(--sklearn-color-unfitted-level-0);\n",
       "  border: .5pt solid var(--sklearn-color-unfitted-level-3);\n",
       "}\n",
       "\n",
       ".sk-estimator-doc-link.fitted span {\n",
       "  /* fitted */\n",
       "  background: var(--sklearn-color-fitted-level-0);\n",
       "  border: var(--sklearn-color-fitted-level-3);\n",
       "}\n",
       "\n",
       ".sk-estimator-doc-link:hover span {\n",
       "  display: block;\n",
       "}\n",
       "\n",
       "/* \"?\"-specific style due to the `<a>` HTML tag */\n",
       "\n",
       "#sk-container-id-1 a.estimator_doc_link {\n",
       "  float: right;\n",
       "  font-size: 1rem;\n",
       "  line-height: 1em;\n",
       "  font-family: monospace;\n",
       "  background-color: var(--sklearn-color-background);\n",
       "  border-radius: 1rem;\n",
       "  height: 1rem;\n",
       "  width: 1rem;\n",
       "  text-decoration: none;\n",
       "  /* unfitted */\n",
       "  color: var(--sklearn-color-unfitted-level-1);\n",
       "  border: var(--sklearn-color-unfitted-level-1) 1pt solid;\n",
       "}\n",
       "\n",
       "#sk-container-id-1 a.estimator_doc_link.fitted {\n",
       "  /* fitted */\n",
       "  border: var(--sklearn-color-fitted-level-1) 1pt solid;\n",
       "  color: var(--sklearn-color-fitted-level-1);\n",
       "}\n",
       "\n",
       "/* On hover */\n",
       "#sk-container-id-1 a.estimator_doc_link:hover {\n",
       "  /* unfitted */\n",
       "  background-color: var(--sklearn-color-unfitted-level-3);\n",
       "  color: var(--sklearn-color-background);\n",
       "  text-decoration: none;\n",
       "}\n",
       "\n",
       "#sk-container-id-1 a.estimator_doc_link.fitted:hover {\n",
       "  /* fitted */\n",
       "  background-color: var(--sklearn-color-fitted-level-3);\n",
       "}\n",
       "\n",
       ".estimator-table summary {\n",
       "    padding: .5rem;\n",
       "    font-family: monospace;\n",
       "    cursor: pointer;\n",
       "}\n",
       "\n",
       ".estimator-table details[open] {\n",
       "    padding-left: 0.1rem;\n",
       "    padding-right: 0.1rem;\n",
       "    padding-bottom: 0.3rem;\n",
       "}\n",
       "\n",
       ".estimator-table .parameters-table {\n",
       "    margin-left: auto !important;\n",
       "    margin-right: auto !important;\n",
       "}\n",
       "\n",
       ".estimator-table .parameters-table tr:nth-child(odd) {\n",
       "    background-color: #fff;\n",
       "}\n",
       "\n",
       ".estimator-table .parameters-table tr:nth-child(even) {\n",
       "    background-color: #f6f6f6;\n",
       "}\n",
       "\n",
       ".estimator-table .parameters-table tr:hover {\n",
       "    background-color: #e0e0e0;\n",
       "}\n",
       "\n",
       ".estimator-table table td {\n",
       "    border: 1px solid rgba(106, 105, 104, 0.232);\n",
       "}\n",
       "\n",
       ".user-set td {\n",
       "    color:rgb(255, 94, 0);\n",
       "    text-align: left;\n",
       "}\n",
       "\n",
       ".user-set td.value pre {\n",
       "    color:rgb(255, 94, 0) !important;\n",
       "    background-color: transparent !important;\n",
       "}\n",
       "\n",
       ".default td {\n",
       "    color: black;\n",
       "    text-align: left;\n",
       "}\n",
       "\n",
       ".user-set td i,\n",
       ".default td i {\n",
       "    color: black;\n",
       "}\n",
       "\n",
       ".copy-paste-icon {\n",
       "    background-image: url(data:image/svg+xml;base64,PHN2ZyB4bWxucz0iaHR0cDovL3d3dy53My5vcmcvMjAwMC9zdmciIHZpZXdCb3g9IjAgMCA0NDggNTEyIj48IS0tIUZvbnQgQXdlc29tZSBGcmVlIDYuNy4yIGJ5IEBmb250YXdlc29tZSAtIGh0dHBzOi8vZm9udGF3ZXNvbWUuY29tIExpY2Vuc2UgLSBodHRwczovL2ZvbnRhd2Vzb21lLmNvbS9saWNlbnNlL2ZyZWUgQ29weXJpZ2h0IDIwMjUgRm9udGljb25zLCBJbmMuLS0+PHBhdGggZD0iTTIwOCAwTDMzMi4xIDBjMTIuNyAwIDI0LjkgNS4xIDMzLjkgMTQuMWw2Ny45IDY3LjljOSA5IDE0LjEgMjEuMiAxNC4xIDMzLjlMNDQ4IDMzNmMwIDI2LjUtMjEuNSA0OC00OCA0OGwtMTkyIDBjLTI2LjUgMC00OC0yMS41LTQ4LTQ4bDAtMjg4YzAtMjYuNSAyMS41LTQ4IDQ4LTQ4ek00OCAxMjhsODAgMCAwIDY0LTY0IDAgMCAyNTYgMTkyIDAgMC0zMiA2NCAwIDAgNDhjMCAyNi41LTIxLjUgNDgtNDggNDhMNDggNTEyYy0yNi41IDAtNDgtMjEuNS00OC00OEwwIDE3NmMwLTI2LjUgMjEuNS00OCA0OC00OHoiLz48L3N2Zz4=);\n",
       "    background-repeat: no-repeat;\n",
       "    background-size: 14px 14px;\n",
       "    background-position: 0;\n",
       "    display: inline-block;\n",
       "    width: 14px;\n",
       "    height: 14px;\n",
       "    cursor: pointer;\n",
       "}\n",
       "</style><body><div id=\"sk-container-id-1\" class=\"sk-top-container\"><div class=\"sk-text-repr-fallback\"><pre>Pipeline(steps=[(&#x27;scaler&#x27;, MinMaxScaler()),\n",
       "                (&#x27;KMeansCluster&#x27;, KMeans(n_clusters=5, random_state=19))])</pre><b>In a Jupyter environment, please rerun this cell to show the HTML representation or trust the notebook. <br />On GitHub, the HTML representation is unable to render, please try loading this page with nbviewer.org.</b></div><div class=\"sk-container\" hidden><div class=\"sk-item sk-dashed-wrapped\"><div class=\"sk-label-container\"><div class=\"sk-label fitted sk-toggleable\"><input class=\"sk-toggleable__control sk-hidden--visually\" id=\"sk-estimator-id-1\" type=\"checkbox\" ><label for=\"sk-estimator-id-1\" class=\"sk-toggleable__label fitted sk-toggleable__label-arrow\"><div><div>Pipeline</div></div><div><a class=\"sk-estimator-doc-link fitted\" rel=\"noreferrer\" target=\"_blank\" href=\"https://scikit-learn.org/1.7/modules/generated/sklearn.pipeline.Pipeline.html\">?<span>Documentation for Pipeline</span></a><span class=\"sk-estimator-doc-link fitted\">i<span>Fitted</span></span></div></label><div class=\"sk-toggleable__content fitted\" data-param-prefix=\"\">\n",
       "        <div class=\"estimator-table\">\n",
       "            <details>\n",
       "                <summary>Parameters</summary>\n",
       "                <table class=\"parameters-table\">\n",
       "                  <tbody>\n",
       "                    \n",
       "        <tr class=\"user-set\">\n",
       "            <td><i class=\"copy-paste-icon\"\n",
       "                 onclick=\"copyToClipboard('steps',\n",
       "                          this.parentElement.nextElementSibling)\"\n",
       "            ></i></td>\n",
       "            <td class=\"param\">steps&nbsp;</td>\n",
       "            <td class=\"value\">[(&#x27;scaler&#x27;, ...), (&#x27;KMeansCluster&#x27;, ...)]</td>\n",
       "        </tr>\n",
       "    \n",
       "\n",
       "        <tr class=\"default\">\n",
       "            <td><i class=\"copy-paste-icon\"\n",
       "                 onclick=\"copyToClipboard('transform_input',\n",
       "                          this.parentElement.nextElementSibling)\"\n",
       "            ></i></td>\n",
       "            <td class=\"param\">transform_input&nbsp;</td>\n",
       "            <td class=\"value\">None</td>\n",
       "        </tr>\n",
       "    \n",
       "\n",
       "        <tr class=\"default\">\n",
       "            <td><i class=\"copy-paste-icon\"\n",
       "                 onclick=\"copyToClipboard('memory',\n",
       "                          this.parentElement.nextElementSibling)\"\n",
       "            ></i></td>\n",
       "            <td class=\"param\">memory&nbsp;</td>\n",
       "            <td class=\"value\">None</td>\n",
       "        </tr>\n",
       "    \n",
       "\n",
       "        <tr class=\"default\">\n",
       "            <td><i class=\"copy-paste-icon\"\n",
       "                 onclick=\"copyToClipboard('verbose',\n",
       "                          this.parentElement.nextElementSibling)\"\n",
       "            ></i></td>\n",
       "            <td class=\"param\">verbose&nbsp;</td>\n",
       "            <td class=\"value\">False</td>\n",
       "        </tr>\n",
       "    \n",
       "                  </tbody>\n",
       "                </table>\n",
       "            </details>\n",
       "        </div>\n",
       "    </div></div></div><div class=\"sk-serial\"><div class=\"sk-item\"><div class=\"sk-estimator fitted sk-toggleable\"><input class=\"sk-toggleable__control sk-hidden--visually\" id=\"sk-estimator-id-2\" type=\"checkbox\" ><label for=\"sk-estimator-id-2\" class=\"sk-toggleable__label fitted sk-toggleable__label-arrow\"><div><div>MinMaxScaler</div></div><div><a class=\"sk-estimator-doc-link fitted\" rel=\"noreferrer\" target=\"_blank\" href=\"https://scikit-learn.org/1.7/modules/generated/sklearn.preprocessing.MinMaxScaler.html\">?<span>Documentation for MinMaxScaler</span></a></div></label><div class=\"sk-toggleable__content fitted\" data-param-prefix=\"scaler__\">\n",
       "        <div class=\"estimator-table\">\n",
       "            <details>\n",
       "                <summary>Parameters</summary>\n",
       "                <table class=\"parameters-table\">\n",
       "                  <tbody>\n",
       "                    \n",
       "        <tr class=\"default\">\n",
       "            <td><i class=\"copy-paste-icon\"\n",
       "                 onclick=\"copyToClipboard('feature_range',\n",
       "                          this.parentElement.nextElementSibling)\"\n",
       "            ></i></td>\n",
       "            <td class=\"param\">feature_range&nbsp;</td>\n",
       "            <td class=\"value\">(0, ...)</td>\n",
       "        </tr>\n",
       "    \n",
       "\n",
       "        <tr class=\"default\">\n",
       "            <td><i class=\"copy-paste-icon\"\n",
       "                 onclick=\"copyToClipboard('copy',\n",
       "                          this.parentElement.nextElementSibling)\"\n",
       "            ></i></td>\n",
       "            <td class=\"param\">copy&nbsp;</td>\n",
       "            <td class=\"value\">True</td>\n",
       "        </tr>\n",
       "    \n",
       "\n",
       "        <tr class=\"default\">\n",
       "            <td><i class=\"copy-paste-icon\"\n",
       "                 onclick=\"copyToClipboard('clip',\n",
       "                          this.parentElement.nextElementSibling)\"\n",
       "            ></i></td>\n",
       "            <td class=\"param\">clip&nbsp;</td>\n",
       "            <td class=\"value\">False</td>\n",
       "        </tr>\n",
       "    \n",
       "                  </tbody>\n",
       "                </table>\n",
       "            </details>\n",
       "        </div>\n",
       "    </div></div></div><div class=\"sk-item\"><div class=\"sk-estimator fitted sk-toggleable\"><input class=\"sk-toggleable__control sk-hidden--visually\" id=\"sk-estimator-id-3\" type=\"checkbox\" ><label for=\"sk-estimator-id-3\" class=\"sk-toggleable__label fitted sk-toggleable__label-arrow\"><div><div>KMeans</div></div><div><a class=\"sk-estimator-doc-link fitted\" rel=\"noreferrer\" target=\"_blank\" href=\"https://scikit-learn.org/1.7/modules/generated/sklearn.cluster.KMeans.html\">?<span>Documentation for KMeans</span></a></div></label><div class=\"sk-toggleable__content fitted\" data-param-prefix=\"KMeansCluster__\">\n",
       "        <div class=\"estimator-table\">\n",
       "            <details>\n",
       "                <summary>Parameters</summary>\n",
       "                <table class=\"parameters-table\">\n",
       "                  <tbody>\n",
       "                    \n",
       "        <tr class=\"user-set\">\n",
       "            <td><i class=\"copy-paste-icon\"\n",
       "                 onclick=\"copyToClipboard('n_clusters',\n",
       "                          this.parentElement.nextElementSibling)\"\n",
       "            ></i></td>\n",
       "            <td class=\"param\">n_clusters&nbsp;</td>\n",
       "            <td class=\"value\">5</td>\n",
       "        </tr>\n",
       "    \n",
       "\n",
       "        <tr class=\"default\">\n",
       "            <td><i class=\"copy-paste-icon\"\n",
       "                 onclick=\"copyToClipboard('init',\n",
       "                          this.parentElement.nextElementSibling)\"\n",
       "            ></i></td>\n",
       "            <td class=\"param\">init&nbsp;</td>\n",
       "            <td class=\"value\">&#x27;k-means++&#x27;</td>\n",
       "        </tr>\n",
       "    \n",
       "\n",
       "        <tr class=\"default\">\n",
       "            <td><i class=\"copy-paste-icon\"\n",
       "                 onclick=\"copyToClipboard('n_init',\n",
       "                          this.parentElement.nextElementSibling)\"\n",
       "            ></i></td>\n",
       "            <td class=\"param\">n_init&nbsp;</td>\n",
       "            <td class=\"value\">&#x27;auto&#x27;</td>\n",
       "        </tr>\n",
       "    \n",
       "\n",
       "        <tr class=\"default\">\n",
       "            <td><i class=\"copy-paste-icon\"\n",
       "                 onclick=\"copyToClipboard('max_iter',\n",
       "                          this.parentElement.nextElementSibling)\"\n",
       "            ></i></td>\n",
       "            <td class=\"param\">max_iter&nbsp;</td>\n",
       "            <td class=\"value\">300</td>\n",
       "        </tr>\n",
       "    \n",
       "\n",
       "        <tr class=\"default\">\n",
       "            <td><i class=\"copy-paste-icon\"\n",
       "                 onclick=\"copyToClipboard('tol',\n",
       "                          this.parentElement.nextElementSibling)\"\n",
       "            ></i></td>\n",
       "            <td class=\"param\">tol&nbsp;</td>\n",
       "            <td class=\"value\">0.0001</td>\n",
       "        </tr>\n",
       "    \n",
       "\n",
       "        <tr class=\"default\">\n",
       "            <td><i class=\"copy-paste-icon\"\n",
       "                 onclick=\"copyToClipboard('verbose',\n",
       "                          this.parentElement.nextElementSibling)\"\n",
       "            ></i></td>\n",
       "            <td class=\"param\">verbose&nbsp;</td>\n",
       "            <td class=\"value\">0</td>\n",
       "        </tr>\n",
       "    \n",
       "\n",
       "        <tr class=\"user-set\">\n",
       "            <td><i class=\"copy-paste-icon\"\n",
       "                 onclick=\"copyToClipboard('random_state',\n",
       "                          this.parentElement.nextElementSibling)\"\n",
       "            ></i></td>\n",
       "            <td class=\"param\">random_state&nbsp;</td>\n",
       "            <td class=\"value\">19</td>\n",
       "        </tr>\n",
       "    \n",
       "\n",
       "        <tr class=\"default\">\n",
       "            <td><i class=\"copy-paste-icon\"\n",
       "                 onclick=\"copyToClipboard('copy_x',\n",
       "                          this.parentElement.nextElementSibling)\"\n",
       "            ></i></td>\n",
       "            <td class=\"param\">copy_x&nbsp;</td>\n",
       "            <td class=\"value\">True</td>\n",
       "        </tr>\n",
       "    \n",
       "\n",
       "        <tr class=\"default\">\n",
       "            <td><i class=\"copy-paste-icon\"\n",
       "                 onclick=\"copyToClipboard('algorithm',\n",
       "                          this.parentElement.nextElementSibling)\"\n",
       "            ></i></td>\n",
       "            <td class=\"param\">algorithm&nbsp;</td>\n",
       "            <td class=\"value\">&#x27;lloyd&#x27;</td>\n",
       "        </tr>\n",
       "    \n",
       "                  </tbody>\n",
       "                </table>\n",
       "            </details>\n",
       "        </div>\n",
       "    </div></div></div></div></div></div></div><script>function copyToClipboard(text, element) {\n",
       "    // Get the parameter prefix from the closest toggleable content\n",
       "    const toggleableContent = element.closest('.sk-toggleable__content');\n",
       "    const paramPrefix = toggleableContent ? toggleableContent.dataset.paramPrefix : '';\n",
       "    const fullParamName = paramPrefix ? `${paramPrefix}${text}` : text;\n",
       "\n",
       "    const originalStyle = element.style;\n",
       "    const computedStyle = window.getComputedStyle(element);\n",
       "    const originalWidth = computedStyle.width;\n",
       "    const originalHTML = element.innerHTML.replace('Copied!', '');\n",
       "\n",
       "    navigator.clipboard.writeText(fullParamName)\n",
       "        .then(() => {\n",
       "            element.style.width = originalWidth;\n",
       "            element.style.color = 'green';\n",
       "            element.innerHTML = \"Copied!\";\n",
       "\n",
       "            setTimeout(() => {\n",
       "                element.innerHTML = originalHTML;\n",
       "                element.style = originalStyle;\n",
       "            }, 2000);\n",
       "        })\n",
       "        .catch(err => {\n",
       "            console.error('Failed to copy:', err);\n",
       "            element.style.color = 'red';\n",
       "            element.innerHTML = \"Failed!\";\n",
       "            setTimeout(() => {\n",
       "                element.innerHTML = originalHTML;\n",
       "                element.style = originalStyle;\n",
       "            }, 2000);\n",
       "        });\n",
       "    return false;\n",
       "}\n",
       "\n",
       "document.querySelectorAll('.fa-regular.fa-copy').forEach(function(element) {\n",
       "    const toggleableContent = element.closest('.sk-toggleable__content');\n",
       "    const paramPrefix = toggleableContent ? toggleableContent.dataset.paramPrefix : '';\n",
       "    const paramName = element.parentElement.nextElementSibling.textContent.trim();\n",
       "    const fullParamName = paramPrefix ? `${paramPrefix}${paramName}` : paramName;\n",
       "\n",
       "    element.setAttribute('title', fullParamName);\n",
       "});\n",
       "</script></body>"
      ],
      "text/plain": [
       "Pipeline(steps=[('scaler', MinMaxScaler()),\n",
       "                ('KMeansCluster', KMeans(n_clusters=5, random_state=19))])"
      ]
     },
     "execution_count": 36,
     "metadata": {},
     "output_type": "execute_result"
    }
   ],
   "source": [
    "# While training the model, we'll wrap our preprocessing (scaling) inside a pipeline along with the clustering algo, then serialize the entire pipeline. \n",
    "# At inference time, when we call pipeline.predict(new_data), it'll automatically apply the scaler before clustering.\n",
    "\n",
    "# Define pipeline\n",
    "pipeline = Pipeline([\n",
    "    (\"scaler\", MinMaxScaler()), \n",
    "    (\"KMeansCluster\", KMeans(n_clusters=5, random_state=19))\n",
    "])\n",
    "\n",
    "# Fit pipeline on training data\n",
    "pipeline.fit(NumCols)"
   ]
  },
  {
   "cell_type": "code",
   "execution_count": 37,
   "metadata": {},
   "outputs": [
    {
     "data": {
      "text/plain": [
       "['C:/Users/theBlackMamba/Desktop/MLOps/Clustering/model/pipeline.pkl']"
      ]
     },
     "execution_count": 37,
     "metadata": {},
     "output_type": "execute_result"
    }
   ],
   "source": [
    "joblib.dump(pipeline, \"C:/Users/theBlackMamba/Desktop/MLOps/Clustering/model/pipeline.pkl\")"
   ]
  }
 ],
 "metadata": {
  "kernelspec": {
   "display_name": "container",
   "language": "python",
   "name": "container"
  },
  "language_info": {
   "codemirror_mode": {
    "name": "ipython",
    "version": 3
   },
   "file_extension": ".py",
   "mimetype": "text/x-python",
   "name": "python",
   "nbconvert_exporter": "python",
   "pygments_lexer": "ipython3",
   "version": "3.11.13"
  }
 },
 "nbformat": 4,
 "nbformat_minor": 4
}
